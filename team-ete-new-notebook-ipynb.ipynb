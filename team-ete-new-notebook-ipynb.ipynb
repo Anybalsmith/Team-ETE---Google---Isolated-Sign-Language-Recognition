{
 "cells": [
  {
   "cell_type": "markdown",
   "id": "c2be9590",
   "metadata": {
    "_cell_guid": "d29517aa-bfaa-43d6-bc1b-daa653892264",
    "_uuid": "50da3953-db99-4375-8e21-0b8acbce7084",
    "papermill": {
     "duration": 0.020528,
     "end_time": "2024-06-27T08:24:43.105635",
     "exception": false,
     "start_time": "2024-06-27T08:24:43.085107",
     "status": "completed"
    },
    "tags": []
   },
   "source": [
    "## **Sign Language Recognition**"
   ]
  },
  {
   "cell_type": "code",
   "execution_count": 1,
   "id": "ec304ee4",
   "metadata": {
    "_cell_guid": "6ca70859-ef94-42ee-ae51-bc1e5ee858cd",
    "_uuid": "4b41103d-c10e-4ef6-9d4c-6e6d3a91b9b0",
    "collapsed": false,
    "execution": {
     "iopub.execute_input": "2024-06-27T08:24:43.148523Z",
     "iopub.status.busy": "2024-06-27T08:24:43.147565Z",
     "iopub.status.idle": "2024-06-27T08:24:44.015936Z",
     "shell.execute_reply": "2024-06-27T08:24:44.014882Z"
    },
    "jupyter": {
     "outputs_hidden": false
    },
    "papermill": {
     "duration": 0.892839,
     "end_time": "2024-06-27T08:24:44.018402",
     "exception": false,
     "start_time": "2024-06-27T08:24:43.125563",
     "status": "completed"
    },
    "tags": []
   },
   "outputs": [],
   "source": [
    "import numpy as np # linear algebra\n",
    "import pandas as pd # data processing, CSV file I/O (e.g. pd.read_csv)\n",
    "\n",
    "import json\n",
    "import pickle\n",
    "\n",
    "import os\n",
    "import random\n",
    "import matplotlib.pyplot as plt"
   ]
  },
  {
   "cell_type": "markdown",
   "id": "b4c643b9",
   "metadata": {
    "papermill": {
     "duration": 0.019376,
     "end_time": "2024-06-27T08:24:44.058699",
     "exception": false,
     "start_time": "2024-06-27T08:24:44.039323",
     "status": "completed"
    },
    "tags": []
   },
   "source": [
    "### Required files:\n",
    "- competition dataset:\n",
    "    - *train_landmark_files*\n",
    "    - *train.csv*\n",
    "    - *sign_to_prediction_index_map.json*\n",
    " \n",
    "- personal dataset:\n",
    "    - *preprocess_dataset.pkl*\n",
    "   \n",
    "- personal data:\n",
    "    - *cm_test.pt*\n",
    "    - *class_report.csv*\n",
    "- models:\n",
    "    - *pointnet_transformer_model1_60.pth*\n"
   ]
  },
  {
   "cell_type": "code",
   "execution_count": 2,
   "id": "0c59687e",
   "metadata": {
    "_cell_guid": "d0d5a5c8-cb4a-4dea-a11b-48dbcf0163b7",
    "_uuid": "df5b3fb3-2352-43f5-b7b3-a9c2572bb32d",
    "collapsed": false,
    "execution": {
     "iopub.execute_input": "2024-06-27T08:24:44.100450Z",
     "iopub.status.busy": "2024-06-27T08:24:44.099931Z",
     "iopub.status.idle": "2024-06-27T08:24:44.367850Z",
     "shell.execute_reply": "2024-06-27T08:24:44.366520Z"
    },
    "jupyter": {
     "outputs_hidden": false
    },
    "papermill": {
     "duration": 0.292363,
     "end_time": "2024-06-27T08:24:44.370452",
     "exception": false,
     "start_time": "2024-06-27T08:24:44.078089",
     "status": "completed"
    },
    "tags": []
   },
   "outputs": [],
   "source": [
    "COMPETITION_PATH = '/kaggle/input/asl-signs/'\n",
    "PROCESS_DATASET_PATH = \"/kaggle/input/preprocess-dataset/preprocess_dataset.pkl\"\n",
    "dataset_path = '/kaggle/input/asl-signs/train_landmark_files'\n",
    "user_ids = os.listdir('/kaggle/input/asl-signs/train_landmark_files')\n",
    "\n",
    "# lips idx\n",
    "LIPS_IDXS0 = np.array([\n",
    "        61, 185, 40, 39, 37, 0, 267, 269, 270, 409,\n",
    "        291, 146, 91, 181, 84, 17, 314, 405, 321, 375,\n",
    "        78, 191, 80, 81, 82, 13, 312, 311, 310, 415,\n",
    "        95, 88, 178, 87, 14, 317, 402, 318, 324, 308,\n",
    "    ])\n",
    "\n",
    "# left hand, by taking account face from 0 to 468\n",
    "LEFT_HAND_IDXS0 = np.arange(468,489)\n",
    "RIGHT_HAND_IDXS0 = np.arange(522,543)\n",
    "LEFT_POSE_IDXS0 = np.array([502, 504, 506, 508, 510])\n",
    "RIGHT_POSE_IDXS0 = np.array([503, 505, 507, 509, 511])\n",
    "\n",
    "REDUCED_LANDMARKS = np.sort(np.concatenate([LIPS_IDXS0, LEFT_HAND_IDXS0, RIGHT_HAND_IDXS0, LEFT_POSE_IDXS0, RIGHT_POSE_IDXS0]))\n",
    "# print(REDUCED_LANDMARKS)\n",
    "\n",
    "\n",
    "# Opening JSON file\n",
    "f = open('/kaggle/input/asl-signs/sign_to_prediction_index_map.json')\n",
    "\n",
    "# opening train file\n",
    "train_path = '/kaggle/input/asl-signs/train.csv'\n",
    "train = pd.read_csv(train_path)"
   ]
  },
  {
   "cell_type": "code",
   "execution_count": 3,
   "id": "936b815d",
   "metadata": {
    "execution": {
     "iopub.execute_input": "2024-06-27T08:24:44.412437Z",
     "iopub.status.busy": "2024-06-27T08:24:44.412034Z",
     "iopub.status.idle": "2024-06-27T08:24:44.423538Z",
     "shell.execute_reply": "2024-06-27T08:24:44.422293Z"
    },
    "papermill": {
     "duration": 0.035008,
     "end_time": "2024-06-27T08:24:44.425976",
     "exception": false,
     "start_time": "2024-06-27T08:24:44.390968",
     "status": "completed"
    },
    "tags": []
   },
   "outputs": [
    {
     "name": "stdout",
     "output_type": "stream",
     "text": [
      "250 {'TV': 0, 'after': 1, 'airplane': 2, 'all': 3, 'alligator': 4, 'animal': 5, 'another': 6, 'any': 7, 'apple': 8, 'arm': 9, 'aunt': 10, 'awake': 11, 'backyard': 12, 'bad': 13, 'balloon': 14, 'bath': 15, 'because': 16, 'bed': 17, 'bedroom': 18, 'bee': 19, 'before': 20, 'beside': 21, 'better': 22, 'bird': 23, 'black': 24, 'blow': 25, 'blue': 26, 'boat': 27, 'book': 28, 'boy': 29, 'brother': 30, 'brown': 31, 'bug': 32, 'bye': 33, 'callonphone': 34, 'can': 35, 'car': 36, 'carrot': 37, 'cat': 38, 'cereal': 39, 'chair': 40, 'cheek': 41, 'child': 42, 'chin': 43, 'chocolate': 44, 'clean': 45, 'close': 46, 'closet': 47, 'cloud': 48, 'clown': 49, 'cow': 50, 'cowboy': 51, 'cry': 52, 'cut': 53, 'cute': 54, 'dad': 55, 'dance': 56, 'dirty': 57, 'dog': 58, 'doll': 59, 'donkey': 60, 'down': 61, 'drawer': 62, 'drink': 63, 'drop': 64, 'dry': 65, 'dryer': 66, 'duck': 67, 'ear': 68, 'elephant': 69, 'empty': 70, 'every': 71, 'eye': 72, 'face': 73, 'fall': 74, 'farm': 75, 'fast': 76, 'feet': 77, 'find': 78, 'fine': 79, 'finger': 80, 'finish': 81, 'fireman': 82, 'first': 83, 'fish': 84, 'flag': 85, 'flower': 86, 'food': 87, 'for': 88, 'frenchfries': 89, 'frog': 90, 'garbage': 91, 'gift': 92, 'giraffe': 93, 'girl': 94, 'give': 95, 'glasswindow': 96, 'go': 97, 'goose': 98, 'grandma': 99, 'grandpa': 100, 'grass': 101, 'green': 102, 'gum': 103, 'hair': 104, 'happy': 105, 'hat': 106, 'hate': 107, 'have': 108, 'haveto': 109, 'head': 110, 'hear': 111, 'helicopter': 112, 'hello': 113, 'hen': 114, 'hesheit': 115, 'hide': 116, 'high': 117, 'home': 118, 'horse': 119, 'hot': 120, 'hungry': 121, 'icecream': 122, 'if': 123, 'into': 124, 'jacket': 125, 'jeans': 126, 'jump': 127, 'kiss': 128, 'kitty': 129, 'lamp': 130, 'later': 131, 'like': 132, 'lion': 133, 'lips': 134, 'listen': 135, 'look': 136, 'loud': 137, 'mad': 138, 'make': 139, 'man': 140, 'many': 141, 'milk': 142, 'minemy': 143, 'mitten': 144, 'mom': 145, 'moon': 146, 'morning': 147, 'mouse': 148, 'mouth': 149, 'nap': 150, 'napkin': 151, 'night': 152, 'no': 153, 'noisy': 154, 'nose': 155, 'not': 156, 'now': 157, 'nuts': 158, 'old': 159, 'on': 160, 'open': 161, 'orange': 162, 'outside': 163, 'owie': 164, 'owl': 165, 'pajamas': 166, 'pen': 167, 'pencil': 168, 'penny': 169, 'person': 170, 'pig': 171, 'pizza': 172, 'please': 173, 'police': 174, 'pool': 175, 'potty': 176, 'pretend': 177, 'pretty': 178, 'puppy': 179, 'puzzle': 180, 'quiet': 181, 'radio': 182, 'rain': 183, 'read': 184, 'red': 185, 'refrigerator': 186, 'ride': 187, 'room': 188, 'sad': 189, 'same': 190, 'say': 191, 'scissors': 192, 'see': 193, 'shhh': 194, 'shirt': 195, 'shoe': 196, 'shower': 197, 'sick': 198, 'sleep': 199, 'sleepy': 200, 'smile': 201, 'snack': 202, 'snow': 203, 'stairs': 204, 'stay': 205, 'sticky': 206, 'store': 207, 'story': 208, 'stuck': 209, 'sun': 210, 'table': 211, 'talk': 212, 'taste': 213, 'thankyou': 214, 'that': 215, 'there': 216, 'think': 217, 'thirsty': 218, 'tiger': 219, 'time': 220, 'tomorrow': 221, 'tongue': 222, 'tooth': 223, 'toothbrush': 224, 'touch': 225, 'toy': 226, 'tree': 227, 'uncle': 228, 'underwear': 229, 'up': 230, 'vacuum': 231, 'wait': 232, 'wake': 233, 'water': 234, 'wet': 235, 'weus': 236, 'where': 237, 'white': 238, 'who': 239, 'why': 240, 'will': 241, 'wolf': 242, 'yellow': 243, 'yes': 244, 'yesterday': 245, 'yourself': 246, 'yucky': 247, 'zebra': 248, 'zipper': 249}\n"
     ]
    }
   ],
   "source": [
    "# returns JSON object as \n",
    "# a dictionary\n",
    "WORD2IDX = json.load(f)\n",
    "print(len(WORD2IDX), WORD2IDX)\n",
    "\n",
    "WORD = list(WORD2IDX.keys())"
   ]
  },
  {
   "cell_type": "code",
   "execution_count": 4,
   "id": "bdde9e9e",
   "metadata": {
    "execution": {
     "iopub.execute_input": "2024-06-27T08:24:44.467740Z",
     "iopub.status.busy": "2024-06-27T08:24:44.467287Z",
     "iopub.status.idle": "2024-06-27T08:24:44.489713Z",
     "shell.execute_reply": "2024-06-27T08:24:44.488577Z"
    },
    "papermill": {
     "duration": 0.046321,
     "end_time": "2024-06-27T08:24:44.492307",
     "exception": false,
     "start_time": "2024-06-27T08:24:44.445986",
     "status": "completed"
    },
    "tags": []
   },
   "outputs": [
    {
     "data": {
      "text/html": [
       "<div>\n",
       "<style scoped>\n",
       "    .dataframe tbody tr th:only-of-type {\n",
       "        vertical-align: middle;\n",
       "    }\n",
       "\n",
       "    .dataframe tbody tr th {\n",
       "        vertical-align: top;\n",
       "    }\n",
       "\n",
       "    .dataframe thead th {\n",
       "        text-align: right;\n",
       "    }\n",
       "</style>\n",
       "<table border=\"1\" class=\"dataframe\">\n",
       "  <thead>\n",
       "    <tr style=\"text-align: right;\">\n",
       "      <th></th>\n",
       "      <th>path</th>\n",
       "      <th>participant_id</th>\n",
       "      <th>sequence_id</th>\n",
       "      <th>sign</th>\n",
       "    </tr>\n",
       "  </thead>\n",
       "  <tbody>\n",
       "    <tr>\n",
       "      <th>0</th>\n",
       "      <td>train_landmark_files/26734/1000035562.parquet</td>\n",
       "      <td>26734</td>\n",
       "      <td>1000035562</td>\n",
       "      <td>blow</td>\n",
       "    </tr>\n",
       "    <tr>\n",
       "      <th>1</th>\n",
       "      <td>train_landmark_files/28656/1000106739.parquet</td>\n",
       "      <td>28656</td>\n",
       "      <td>1000106739</td>\n",
       "      <td>wait</td>\n",
       "    </tr>\n",
       "    <tr>\n",
       "      <th>2</th>\n",
       "      <td>train_landmark_files/16069/100015657.parquet</td>\n",
       "      <td>16069</td>\n",
       "      <td>100015657</td>\n",
       "      <td>cloud</td>\n",
       "    </tr>\n",
       "    <tr>\n",
       "      <th>3</th>\n",
       "      <td>train_landmark_files/25571/1000210073.parquet</td>\n",
       "      <td>25571</td>\n",
       "      <td>1000210073</td>\n",
       "      <td>bird</td>\n",
       "    </tr>\n",
       "    <tr>\n",
       "      <th>4</th>\n",
       "      <td>train_landmark_files/62590/1000240708.parquet</td>\n",
       "      <td>62590</td>\n",
       "      <td>1000240708</td>\n",
       "      <td>owie</td>\n",
       "    </tr>\n",
       "  </tbody>\n",
       "</table>\n",
       "</div>"
      ],
      "text/plain": [
       "                                            path  participant_id  sequence_id  \\\n",
       "0  train_landmark_files/26734/1000035562.parquet           26734   1000035562   \n",
       "1  train_landmark_files/28656/1000106739.parquet           28656   1000106739   \n",
       "2   train_landmark_files/16069/100015657.parquet           16069    100015657   \n",
       "3  train_landmark_files/25571/1000210073.parquet           25571   1000210073   \n",
       "4  train_landmark_files/62590/1000240708.parquet           62590   1000240708   \n",
       "\n",
       "    sign  \n",
       "0   blow  \n",
       "1   wait  \n",
       "2  cloud  \n",
       "3   bird  \n",
       "4   owie  "
      ]
     },
     "execution_count": 4,
     "metadata": {},
     "output_type": "execute_result"
    }
   ],
   "source": [
    "train.head()"
   ]
  },
  {
   "cell_type": "markdown",
   "id": "b780daa8",
   "metadata": {
    "_cell_guid": "dcc89ee0-e2e7-4a7f-93df-4c1031f71078",
    "_uuid": "755bb92f-c0af-4123-a2e9-648d41d9ae33",
    "papermill": {
     "duration": 0.01958,
     "end_time": "2024-06-27T08:24:44.532322",
     "exception": false,
     "start_time": "2024-06-27T08:24:44.512742",
     "status": "completed"
    },
    "tags": []
   },
   "source": [
    "## Useful functions"
   ]
  },
  {
   "cell_type": "code",
   "execution_count": 5,
   "id": "3153364f",
   "metadata": {
    "_cell_guid": "aee394e9-686a-4b6e-9510-f8650d48bad0",
    "_uuid": "3b6a6fd3-edab-45f7-80ba-9b3fd461f9c3",
    "collapsed": false,
    "execution": {
     "iopub.execute_input": "2024-06-27T08:24:44.573586Z",
     "iopub.status.busy": "2024-06-27T08:24:44.573165Z",
     "iopub.status.idle": "2024-06-27T08:24:44.579141Z",
     "shell.execute_reply": "2024-06-27T08:24:44.578123Z"
    },
    "jupyter": {
     "outputs_hidden": false
    },
    "papermill": {
     "duration": 0.02937,
     "end_time": "2024-06-27T08:24:44.581453",
     "exception": false,
     "start_time": "2024-06-27T08:24:44.552083",
     "status": "completed"
    },
    "tags": []
   },
   "outputs": [],
   "source": [
    "ROWS_PER_FRAME = 543  # number of landmarks per frame\n",
    "\n",
    "def load_relevant_data_subset(pq_path):\n",
    "    data_columns = ['x', 'y']\n",
    "    data = pd.read_parquet(pq_path, columns=data_columns)\n",
    "    n_frames = int(len(data) / ROWS_PER_FRAME)\n",
    "    data = data.values.reshape(n_frames, ROWS_PER_FRAME, len(data_columns))\n",
    "    return data.astype(np.float32)"
   ]
  },
  {
   "cell_type": "code",
   "execution_count": 6,
   "id": "dbc3fa11",
   "metadata": {
    "_cell_guid": "498b28f4-e211-404a-adc7-0d73e4ccedc7",
    "_uuid": "03d78e7d-65ea-4c98-ae03-4b858be84683",
    "collapsed": false,
    "execution": {
     "iopub.execute_input": "2024-06-27T08:24:44.623030Z",
     "iopub.status.busy": "2024-06-27T08:24:44.622639Z",
     "iopub.status.idle": "2024-06-27T08:24:44.628535Z",
     "shell.execute_reply": "2024-06-27T08:24:44.627357Z"
    },
    "jupyter": {
     "outputs_hidden": false
    },
    "papermill": {
     "duration": 0.029419,
     "end_time": "2024-06-27T08:24:44.630854",
     "exception": false,
     "start_time": "2024-06-27T08:24:44.601435",
     "status": "completed"
    },
    "tags": []
   },
   "outputs": [],
   "source": [
    "def select_random_sequence():\n",
    "    usr = random.choice(user_ids)\n",
    "    usr_sqc = os.listdir(os.path.join(dataset_path,usr))\n",
    "    sqc = random.choice(usr_sqc)\n",
    "    return os.path.join(dataset_path,usr,sqc)"
   ]
  },
  {
   "cell_type": "code",
   "execution_count": 7,
   "id": "810375a3",
   "metadata": {
    "execution": {
     "iopub.execute_input": "2024-06-27T08:24:44.673638Z",
     "iopub.status.busy": "2024-06-27T08:24:44.673236Z",
     "iopub.status.idle": "2024-06-27T08:24:44.681515Z",
     "shell.execute_reply": "2024-06-27T08:24:44.680541Z"
    },
    "papermill": {
     "duration": 0.032389,
     "end_time": "2024-06-27T08:24:44.683748",
     "exception": false,
     "start_time": "2024-06-27T08:24:44.651359",
     "status": "completed"
    },
    "tags": []
   },
   "outputs": [],
   "source": [
    "def normalize_loaded_sequence(loaded_sqc):\n",
    "    '''\n",
    "        Function to normalize using min-max normalization. \n",
    "        Normalization is calculated over all points, but only relevants landmarks points are returned\n",
    "        This function also replaces NaN by 0\n",
    "    '''\n",
    "    normalized_sqc = np.zeros((loaded_sqc.shape[0], len(REDUCED_LANDMARKS), 2))\n",
    "    \n",
    "    for frm_idx in range(loaded_sqc.shape[0]):\n",
    "        frame_array = loaded_sqc[frm_idx]\n",
    "        \n",
    "        na_x = np.nan_to_num(frame_array[:,0], nan=0.0)\n",
    "        na_y = np.nan_to_num(frame_array[:,1], nan=0.0)\n",
    "\n",
    "\n",
    "        x_norm = (na_x-np.min(na_x))/(np.max(na_x)-np.min(na_x))\n",
    "        y_norm = (na_y-np.min(na_y))/(np.max(na_y)-np.min(na_y))\n",
    "\n",
    "        normalized_sqc[frm_idx,:,0],  normalized_sqc[frm_idx,:,1] = x_norm[REDUCED_LANDMARKS], y_norm[REDUCED_LANDMARKS]\n",
    "    \n",
    "    return normalized_sqc"
   ]
  },
  {
   "cell_type": "code",
   "execution_count": 8,
   "id": "926d09c6",
   "metadata": {
    "_cell_guid": "a0b37cb4-c381-4eb2-9442-5a2218270845",
    "_uuid": "5b35fa56-b98b-486a-a33a-508c3378eefd",
    "collapsed": false,
    "execution": {
     "iopub.execute_input": "2024-06-27T08:24:44.784646Z",
     "iopub.status.busy": "2024-06-27T08:24:44.783493Z",
     "iopub.status.idle": "2024-06-27T08:24:44.789169Z",
     "shell.execute_reply": "2024-06-27T08:24:44.787993Z"
    },
    "jupyter": {
     "outputs_hidden": false
    },
    "papermill": {
     "duration": 0.088029,
     "end_time": "2024-06-27T08:24:44.791564",
     "exception": false,
     "start_time": "2024-06-27T08:24:44.703535",
     "status": "completed"
    },
    "tags": []
   },
   "outputs": [],
   "source": [
    "def get_data(sqc_path):\n",
    "    data = load_relevant_data_subset(sqc_path)\n",
    "    data = normalize_loaded_sequence(data)\n",
    "    return data"
   ]
  },
  {
   "cell_type": "code",
   "execution_count": 9,
   "id": "338ff9e2",
   "metadata": {
    "execution": {
     "iopub.execute_input": "2024-06-27T08:24:44.834969Z",
     "iopub.status.busy": "2024-06-27T08:24:44.834567Z",
     "iopub.status.idle": "2024-06-27T08:24:44.839764Z",
     "shell.execute_reply": "2024-06-27T08:24:44.838820Z"
    },
    "papermill": {
     "duration": 0.030203,
     "end_time": "2024-06-27T08:24:44.841872",
     "exception": false,
     "start_time": "2024-06-27T08:24:44.811669",
     "status": "completed"
    },
    "tags": []
   },
   "outputs": [],
   "source": [
    "def get_word_from_key(key_index):\n",
    "    position = list(WORD2IDX.values()).index(key_index)\n",
    "    return WORD[position]"
   ]
  },
  {
   "cell_type": "markdown",
   "id": "c10ecc09",
   "metadata": {
    "papermill": {
     "duration": 0.020364,
     "end_time": "2024-06-27T08:24:44.882689",
     "exception": false,
     "start_time": "2024-06-27T08:24:44.862325",
     "status": "completed"
    },
    "tags": []
   },
   "source": [
    "## Data analysis"
   ]
  },
  {
   "cell_type": "code",
   "execution_count": 10,
   "id": "840c457e",
   "metadata": {
    "_cell_guid": "57eeb23c-6280-405a-a27c-c4e1dbc309c9",
    "_uuid": "de6ef97a-da74-489d-a0d1-e1de1a1f4d5b",
    "collapsed": false,
    "execution": {
     "iopub.execute_input": "2024-06-27T08:24:44.925693Z",
     "iopub.status.busy": "2024-06-27T08:24:44.925237Z",
     "iopub.status.idle": "2024-06-27T08:24:45.613219Z",
     "shell.execute_reply": "2024-06-27T08:24:45.611978Z"
    },
    "jupyter": {
     "outputs_hidden": false
    },
    "papermill": {
     "duration": 0.713323,
     "end_time": "2024-06-27T08:24:45.615963",
     "exception": false,
     "start_time": "2024-06-27T08:24:44.902640",
     "status": "completed"
    },
    "tags": []
   },
   "outputs": [
    {
     "name": "stdout",
     "output_type": "stream",
     "text": [
      "/kaggle/input/asl-signs/train_landmark_files/25571/504403950.parquet\n",
      "xmax: 1.0951355695724487\n",
      "ymax: 2.0877716541290283\n",
      "xmin: 0.05947943776845932\n",
      "ymin: 0.26811856031417847\n"
     ]
    }
   ],
   "source": [
    "cols = ['frame', 'row_id', 'type', 'landmark_index', 'x', 'y', 'z']\n",
    "pq_path = select_random_sequence()\n",
    "df = pd.read_parquet(pq_path, columns=cols)\n",
    "print(pq_path)\n",
    "print(f'xmax: {np.max(df.x)}\\nymax: {np.max(df.y)}\\nxmin: {np.min(df.x)}\\nymin: {np.min(df.y)}')"
   ]
  },
  {
   "cell_type": "markdown",
   "id": "58761522",
   "metadata": {
    "_cell_guid": "498b67c6-3dd7-4a22-a3bc-13e9e1df7f87",
    "_uuid": "848a2912-37cf-4829-b327-a58b35a0fb26",
    "papermill": {
     "duration": 0.019722,
     "end_time": "2024-06-27T08:24:45.655825",
     "exception": false,
     "start_time": "2024-06-27T08:24:45.636103",
     "status": "completed"
    },
    "tags": []
   },
   "source": [
    "### **Do not run next cell (takes time)**\n",
    "or maybe run it one time for min values"
   ]
  },
  {
   "cell_type": "code",
   "execution_count": 11,
   "id": "0f25cdfc",
   "metadata": {
    "_cell_guid": "1d28bf3f-63f5-48e7-ac67-6d562026063e",
    "_uuid": "7b277699-40d0-4046-8032-ce7cd21deef5",
    "collapsed": false,
    "execution": {
     "iopub.execute_input": "2024-06-27T08:24:45.697315Z",
     "iopub.status.busy": "2024-06-27T08:24:45.696909Z",
     "iopub.status.idle": "2024-06-27T08:24:45.704079Z",
     "shell.execute_reply": "2024-06-27T08:24:45.703020Z"
    },
    "jupyter": {
     "outputs_hidden": false
    },
    "papermill": {
     "duration": 0.030574,
     "end_time": "2024-06-27T08:24:45.706305",
     "exception": false,
     "start_time": "2024-06-27T08:24:45.675731",
     "status": "completed"
    },
    "tags": []
   },
   "outputs": [
    {
     "data": {
      "text/plain": [
       "'\\noutputs:\\n\\nmax x: 2.9205052852630615\\nmax y: 3.572496175765991\\nmax z: 4.796591758728027\\n'"
      ]
     },
     "execution_count": 11,
     "metadata": {},
     "output_type": "execute_result"
    }
   ],
   "source": [
    "# maxX=[]\n",
    "# maxY=[]\n",
    "# maxZ=[]\n",
    "# for usr in user_ids:\n",
    "#     usr_sqc = os.listdir(os.path.join(dataset_path,usr))\n",
    "#     for sqc in usr_sqc:\n",
    "#         pth = os.path.join(dataset_path,usr,sqc)\n",
    "#         df = pd.read_parquet(pth, columns=['x', 'y', 'z'])\n",
    "#         maxX.append(np.max(df.x))\n",
    "#         maxY.append(np.max(df.y))\n",
    "#         maxZ.append(np.max(df.z))\n",
    "\n",
    "# print(f'max x: {np.max(maxX)}\\nmax y: {np.max(maxY)}\\nmax z: {np.max(maxZ)}')\n",
    "\n",
    "'''\n",
    "outputs:\n",
    "\n",
    "max x: 2.9205052852630615\n",
    "max y: 3.572496175765991\n",
    "max z: 4.796591758728027\n",
    "'''"
   ]
  },
  {
   "cell_type": "markdown",
   "id": "182e4c4e",
   "metadata": {
    "_cell_guid": "ab8c5efd-f8f4-4d70-8d6c-e6af848d574e",
    "_uuid": "78bc8ec2-95e1-4d66-b108-bdab514811e3",
    "papermill": {
     "duration": 0.020085,
     "end_time": "2024-06-27T08:24:45.746467",
     "exception": false,
     "start_time": "2024-06-27T08:24:45.726382",
     "status": "completed"
    },
    "tags": []
   },
   "source": [
    "### **Prepocessing**"
   ]
  },
  {
   "cell_type": "code",
   "execution_count": 12,
   "id": "bb30c28b",
   "metadata": {
    "_cell_guid": "4ae7716a-a839-439b-8e3d-21c651eb7e82",
    "_uuid": "2b9e1bfd-b3c9-43cd-a614-eeb6bc356dc7",
    "collapsed": false,
    "execution": {
     "iopub.execute_input": "2024-06-27T08:24:45.788721Z",
     "iopub.status.busy": "2024-06-27T08:24:45.788305Z",
     "iopub.status.idle": "2024-06-27T08:24:45.795872Z",
     "shell.execute_reply": "2024-06-27T08:24:45.794833Z"
    },
    "jupyter": {
     "outputs_hidden": false
    },
    "papermill": {
     "duration": 0.031355,
     "end_time": "2024-06-27T08:24:45.798059",
     "exception": false,
     "start_time": "2024-06-27T08:24:45.766704",
     "status": "completed"
    },
    "tags": []
   },
   "outputs": [],
   "source": [
    "def normalize_sequence(sequence_dataframe):\n",
    "    '''\n",
    "        function to normalize coordinates columns (x,y) per frame, also replace NaN values by column mean\n",
    "        sequence_dataset is a pandas dataframe containing a sequence of an user\n",
    "    '''\n",
    "\n",
    "\n",
    "\n",
    "    frame_sqc_idx = sqc_df.frame.unique()\n",
    "    normalized_df = pd.DataFrame()\n",
    "\n",
    "    for frame in frame_sqc_idx:\n",
    "        frame_df = sqc_df[sqc_df.frame == frame]\n",
    "        frame_df1 = frame_df.copy()\n",
    "        \n",
    "        na_x = frame_df['x'].fillna(0.0)\n",
    "        na_y = frame_df['y'].fillna(0.0)\n",
    "\n",
    "        x_norm = (na_x-np.min(na_x))/(np.max(na_x)-np.min(na_x))\n",
    "        y_norm = (na_y-np.min(na_y))/(np.max(na_y)-np.min(na_y))\n",
    "\n",
    "        frame_df1.x, frame_df1.y = x_norm, y_norm\n",
    "        normalized_df = pd.concat([normalized_df, frame_df1])\n",
    "    \n",
    "    return normalized_df"
   ]
  },
  {
   "cell_type": "code",
   "execution_count": 13,
   "id": "c256b467",
   "metadata": {
    "_cell_guid": "2f82c117-0343-4675-93b6-74c9d4fa678d",
    "_uuid": "e1180e5a-c080-472b-acf7-a7a1b1360e24",
    "collapsed": false,
    "execution": {
     "iopub.execute_input": "2024-06-27T08:24:45.841877Z",
     "iopub.status.busy": "2024-06-27T08:24:45.841457Z",
     "iopub.status.idle": "2024-06-27T08:24:47.137925Z",
     "shell.execute_reply": "2024-06-27T08:24:47.136707Z"
    },
    "jupyter": {
     "outputs_hidden": false
    },
    "papermill": {
     "duration": 1.321964,
     "end_time": "2024-06-27T08:24:47.140451",
     "exception": false,
     "start_time": "2024-06-27T08:24:45.818487",
     "status": "completed"
    },
    "tags": []
   },
   "outputs": [
    {
     "data": {
      "image/png": "[encoded data removed]",
      "text/plain": [
       "<Figure size 1000x800 with 2 Axes>"
      ]
     },
     "metadata": {},
     "output_type": "display_data"
    }
   ],
   "source": [
    "pq_path = select_random_sequence() # only first sequence of user here\n",
    "cols = ['frame', 'row_id', 'type', 'landmark_index', 'x', 'y', 'z']\n",
    "sqc_df = pd.read_parquet(pq_path, columns=cols)\n",
    "\n",
    "vv = get_data(pq_path)\n",
    "\n",
    "n_df = normalize_sequence(sqc_df)\n",
    "frame_df0 = n_df[n_df.frame == n_df.frame.unique()[0]]\n",
    "frame_df1 = n_df[n_df.frame == n_df.frame.unique()[-1]]\n",
    "\n",
    "X0 = frame_df0.x\n",
    "Y0= frame_df0.y\n",
    "\n",
    "X1 = frame_df1.x\n",
    "Y1= frame_df1.y\n",
    "\n",
    "plt.figure(figsize=(10,8))\n",
    "plt.subplot(1,2,1)\n",
    "plt.xlim(0,1)\n",
    "plt.scatter(X0,-Y0+1, s=5)\n",
    "plt.legend(['543 original landmarks'])\n",
    "\n",
    "plt.subplot(1,2,2)\n",
    "# plt.scatter(X1,-Y1)\n",
    "# plt.scatter(vv[-1,:,0],-vv[-1,:,1], s=3, c='r')\n",
    "plt.xlim(0,1)\n",
    "plt.ylim(0,1)\n",
    "plt.scatter(vv[0,:,0],-vv[0,:,1]+1, s=7, c='r')\n",
    "plt.legend(['92 relevant landmarks'])\n",
    "\n",
    "\n",
    "# plt.title(pq_path)\n",
    "plt.show()"
   ]
  },
  {
   "cell_type": "code",
   "execution_count": 14,
   "id": "9c65613b",
   "metadata": {
    "_cell_guid": "7aeac3bc-7592-43da-af1a-ce05629d3f5e",
    "_uuid": "c41e1b1a-13fc-4012-8c02-b327dc4d932b",
    "collapsed": false,
    "execution": {
     "iopub.execute_input": "2024-06-27T08:24:47.184676Z",
     "iopub.status.busy": "2024-06-27T08:24:47.184270Z",
     "iopub.status.idle": "2024-06-27T08:24:47.200743Z",
     "shell.execute_reply": "2024-06-27T08:24:47.199405Z"
    },
    "jupyter": {
     "outputs_hidden": false
    },
    "papermill": {
     "duration": 0.041878,
     "end_time": "2024-06-27T08:24:47.203274",
     "exception": false,
     "start_time": "2024-06-27T08:24:47.161396",
     "status": "completed"
    },
    "tags": []
   },
   "outputs": [
    {
     "name": "stdout",
     "output_type": "stream",
     "text": [
      "mean number of sequence per sign: 377.908\n",
      "standard deviation 19.39536689593967\n",
      "max number of sequence 415\n",
      "min number of sequence 299\n"
     ]
    }
   ],
   "source": [
    "d=train.sign.value_counts(dropna=True)\n",
    "print(f'mean number of sequence per sign: {d.mean()}')\n",
    "print(f\"standard deviation {d.std()}\")\n",
    "print(f\"max number of sequence {d.max()}\")\n",
    "print(f\"min number of sequence {d.min()}\")\n",
    "\n",
    "# word distribution is not too expended\n",
    "# any words have close occurences"
   ]
  },
  {
   "cell_type": "code",
   "execution_count": 15,
   "id": "422ae182",
   "metadata": {
    "execution": {
     "iopub.execute_input": "2024-06-27T08:24:47.247728Z",
     "iopub.status.busy": "2024-06-27T08:24:47.246531Z",
     "iopub.status.idle": "2024-06-27T08:24:47.258529Z",
     "shell.execute_reply": "2024-06-27T08:24:47.257298Z"
    },
    "papermill": {
     "duration": 0.036896,
     "end_time": "2024-06-27T08:24:47.261033",
     "exception": false,
     "start_time": "2024-06-27T08:24:47.224137",
     "status": "completed"
    },
    "tags": []
   },
   "outputs": [
    {
     "data": {
      "text/html": [
       "<div>\n",
       "<style scoped>\n",
       "    .dataframe tbody tr th:only-of-type {\n",
       "        vertical-align: middle;\n",
       "    }\n",
       "\n",
       "    .dataframe tbody tr th {\n",
       "        vertical-align: top;\n",
       "    }\n",
       "\n",
       "    .dataframe thead th {\n",
       "        text-align: right;\n",
       "    }\n",
       "</style>\n",
       "<table border=\"1\" class=\"dataframe\">\n",
       "  <thead>\n",
       "    <tr style=\"text-align: right;\">\n",
       "      <th></th>\n",
       "      <th>path</th>\n",
       "      <th>participant_id</th>\n",
       "      <th>sequence_id</th>\n",
       "      <th>sign</th>\n",
       "    </tr>\n",
       "  </thead>\n",
       "  <tbody>\n",
       "    <tr>\n",
       "      <th>0</th>\n",
       "      <td>train_landmark_files/26734/1000035562.parquet</td>\n",
       "      <td>26734</td>\n",
       "      <td>1000035562</td>\n",
       "      <td>blow</td>\n",
       "    </tr>\n",
       "    <tr>\n",
       "      <th>1</th>\n",
       "      <td>train_landmark_files/28656/1000106739.parquet</td>\n",
       "      <td>28656</td>\n",
       "      <td>1000106739</td>\n",
       "      <td>wait</td>\n",
       "    </tr>\n",
       "    <tr>\n",
       "      <th>2</th>\n",
       "      <td>train_landmark_files/16069/100015657.parquet</td>\n",
       "      <td>16069</td>\n",
       "      <td>100015657</td>\n",
       "      <td>cloud</td>\n",
       "    </tr>\n",
       "    <tr>\n",
       "      <th>3</th>\n",
       "      <td>train_landmark_files/25571/1000210073.parquet</td>\n",
       "      <td>25571</td>\n",
       "      <td>1000210073</td>\n",
       "      <td>bird</td>\n",
       "    </tr>\n",
       "    <tr>\n",
       "      <th>4</th>\n",
       "      <td>train_landmark_files/62590/1000240708.parquet</td>\n",
       "      <td>62590</td>\n",
       "      <td>1000240708</td>\n",
       "      <td>owie</td>\n",
       "    </tr>\n",
       "  </tbody>\n",
       "</table>\n",
       "</div>"
      ],
      "text/plain": [
       "                                            path  participant_id  sequence_id  \\\n",
       "0  train_landmark_files/26734/1000035562.parquet           26734   1000035562   \n",
       "1  train_landmark_files/28656/1000106739.parquet           28656   1000106739   \n",
       "2   train_landmark_files/16069/100015657.parquet           16069    100015657   \n",
       "3  train_landmark_files/25571/1000210073.parquet           25571   1000210073   \n",
       "4  train_landmark_files/62590/1000240708.parquet           62590   1000240708   \n",
       "\n",
       "    sign  \n",
       "0   blow  \n",
       "1   wait  \n",
       "2  cloud  \n",
       "3   bird  \n",
       "4   owie  "
      ]
     },
     "execution_count": 15,
     "metadata": {},
     "output_type": "execute_result"
    }
   ],
   "source": [
    "train.head()"
   ]
  },
  {
   "cell_type": "code",
   "execution_count": 16,
   "id": "94ec111a",
   "metadata": {
    "execution": {
     "iopub.execute_input": "2024-06-27T08:24:47.305232Z",
     "iopub.status.busy": "2024-06-27T08:24:47.304809Z",
     "iopub.status.idle": "2024-06-27T08:24:47.316696Z",
     "shell.execute_reply": "2024-06-27T08:24:47.315425Z"
    },
    "papermill": {
     "duration": 0.036723,
     "end_time": "2024-06-27T08:24:47.319067",
     "exception": false,
     "start_time": "2024-06-27T08:24:47.282344",
     "status": "completed"
    },
    "tags": []
   },
   "outputs": [
    {
     "data": {
      "text/html": [
       "<div>\n",
       "<style scoped>\n",
       "    .dataframe tbody tr th:only-of-type {\n",
       "        vertical-align: middle;\n",
       "    }\n",
       "\n",
       "    .dataframe tbody tr th {\n",
       "        vertical-align: top;\n",
       "    }\n",
       "\n",
       "    .dataframe thead th {\n",
       "        text-align: right;\n",
       "    }\n",
       "</style>\n",
       "<table border=\"1\" class=\"dataframe\">\n",
       "  <thead>\n",
       "    <tr style=\"text-align: right;\">\n",
       "      <th></th>\n",
       "      <th>participant_id</th>\n",
       "      <th>sequence_id</th>\n",
       "    </tr>\n",
       "  </thead>\n",
       "  <tbody>\n",
       "    <tr>\n",
       "      <th>0</th>\n",
       "      <td>26734</td>\n",
       "      <td>1000035562</td>\n",
       "    </tr>\n",
       "    <tr>\n",
       "      <th>1</th>\n",
       "      <td>28656</td>\n",
       "      <td>1000106739</td>\n",
       "    </tr>\n",
       "    <tr>\n",
       "      <th>2</th>\n",
       "      <td>16069</td>\n",
       "      <td>100015657</td>\n",
       "    </tr>\n",
       "    <tr>\n",
       "      <th>3</th>\n",
       "      <td>25571</td>\n",
       "      <td>1000210073</td>\n",
       "    </tr>\n",
       "    <tr>\n",
       "      <th>4</th>\n",
       "      <td>62590</td>\n",
       "      <td>1000240708</td>\n",
       "    </tr>\n",
       "  </tbody>\n",
       "</table>\n",
       "</div>"
      ],
      "text/plain": [
       "   participant_id  sequence_id\n",
       "0           26734   1000035562\n",
       "1           28656   1000106739\n",
       "2           16069    100015657\n",
       "3           25571   1000210073\n",
       "4           62590   1000240708"
      ]
     },
     "execution_count": 16,
     "metadata": {},
     "output_type": "execute_result"
    }
   ],
   "source": [
    "df = train[['participant_id', 'sequence_id']]\n",
    "df.head()"
   ]
  },
  {
   "cell_type": "code",
   "execution_count": 17,
   "id": "56090de5",
   "metadata": {
    "execution": {
     "iopub.execute_input": "2024-06-27T08:24:47.364351Z",
     "iopub.status.busy": "2024-06-27T08:24:47.363901Z",
     "iopub.status.idle": "2024-06-27T08:24:47.372824Z",
     "shell.execute_reply": "2024-06-27T08:24:47.371672Z"
    },
    "papermill": {
     "duration": 0.034557,
     "end_time": "2024-06-27T08:24:47.375495",
     "exception": false,
     "start_time": "2024-06-27T08:24:47.340938",
     "status": "completed"
    },
    "tags": []
   },
   "outputs": [],
   "source": [
    "df_group = df.groupby(['participant_id'])['sequence_id'].size()\n",
    "df_result = df_group.reset_index(name=\"nbr_of_sequences\")"
   ]
  },
  {
   "cell_type": "code",
   "execution_count": 18,
   "id": "800bf9c6",
   "metadata": {
    "execution": {
     "iopub.execute_input": "2024-06-27T08:24:47.421014Z",
     "iopub.status.busy": "2024-06-27T08:24:47.420616Z",
     "iopub.status.idle": "2024-06-27T08:24:47.427547Z",
     "shell.execute_reply": "2024-06-27T08:24:47.426472Z"
    },
    "papermill": {
     "duration": 0.031826,
     "end_time": "2024-06-27T08:24:47.429750",
     "exception": false,
     "start_time": "2024-06-27T08:24:47.397924",
     "status": "completed"
    },
    "tags": []
   },
   "outputs": [
    {
     "data": {
      "text/plain": [
       "range(0, 21)"
      ]
     },
     "execution_count": 18,
     "metadata": {},
     "output_type": "execute_result"
    }
   ],
   "source": [
    "range(21)"
   ]
  },
  {
   "cell_type": "code",
   "execution_count": 19,
   "id": "7518bdad",
   "metadata": {
    "execution": {
     "iopub.execute_input": "2024-06-27T08:24:47.474673Z",
     "iopub.status.busy": "2024-06-27T08:24:47.474266Z",
     "iopub.status.idle": "2024-06-27T08:24:49.204390Z",
     "shell.execute_reply": "2024-06-27T08:24:49.203287Z"
    },
    "papermill": {
     "duration": 1.755967,
     "end_time": "2024-06-27T08:24:49.207243",
     "exception": false,
     "start_time": "2024-06-27T08:24:47.451276",
     "status": "completed"
    },
    "tags": []
   },
   "outputs": [
    {
     "data": {
      "image/png": "[encoded data removed]",
      "text/plain": [
       "<Figure size 1000x600 with 1 Axes>"
      ]
     },
     "metadata": {},
     "output_type": "display_data"
    }
   ],
   "source": [
    "import seaborn as sns\n",
    "\n",
    "# Create a bar plot using Seaborn\n",
    "plt.figure(figsize=(10, 6))\n",
    "sns.barplot(x=np.array([i for i in range(21)]), y='nbr_of_sequences', data=df_result, palette='viridis')\n",
    "\n",
    "# Add titles and labels\n",
    "plt.title('Number of Sequences per Participant')\n",
    "plt.xlabel('Participant ID')\n",
    "plt.ylabel('Number of Sequences')\n",
    "\n",
    "# Show the plot\n",
    "plt.show()"
   ]
  },
  {
   "cell_type": "code",
   "execution_count": 20,
   "id": "3037e179",
   "metadata": {
    "execution": {
     "iopub.execute_input": "2024-06-27T08:24:49.256218Z",
     "iopub.status.busy": "2024-06-27T08:24:49.255835Z",
     "iopub.status.idle": "2024-06-27T08:24:49.269991Z",
     "shell.execute_reply": "2024-06-27T08:24:49.268912Z"
    },
    "papermill": {
     "duration": 0.042179,
     "end_time": "2024-06-27T08:24:49.272372",
     "exception": false,
     "start_time": "2024-06-27T08:24:49.230193",
     "status": "completed"
    },
    "tags": []
   },
   "outputs": [
    {
     "data": {
      "text/html": [
       "<div>\n",
       "<style scoped>\n",
       "    .dataframe tbody tr th:only-of-type {\n",
       "        vertical-align: middle;\n",
       "    }\n",
       "\n",
       "    .dataframe tbody tr th {\n",
       "        vertical-align: top;\n",
       "    }\n",
       "\n",
       "    .dataframe thead th {\n",
       "        text-align: right;\n",
       "    }\n",
       "</style>\n",
       "<table border=\"1\" class=\"dataframe\">\n",
       "  <thead>\n",
       "    <tr style=\"text-align: right;\">\n",
       "      <th></th>\n",
       "      <th>sign</th>\n",
       "      <th>sequence_id</th>\n",
       "    </tr>\n",
       "  </thead>\n",
       "  <tbody>\n",
       "    <tr>\n",
       "      <th>0</th>\n",
       "      <td>blow</td>\n",
       "      <td>1000035562</td>\n",
       "    </tr>\n",
       "    <tr>\n",
       "      <th>1</th>\n",
       "      <td>wait</td>\n",
       "      <td>1000106739</td>\n",
       "    </tr>\n",
       "    <tr>\n",
       "      <th>2</th>\n",
       "      <td>cloud</td>\n",
       "      <td>100015657</td>\n",
       "    </tr>\n",
       "    <tr>\n",
       "      <th>3</th>\n",
       "      <td>bird</td>\n",
       "      <td>1000210073</td>\n",
       "    </tr>\n",
       "    <tr>\n",
       "      <th>4</th>\n",
       "      <td>owie</td>\n",
       "      <td>1000240708</td>\n",
       "    </tr>\n",
       "  </tbody>\n",
       "</table>\n",
       "</div>"
      ],
      "text/plain": [
       "    sign  sequence_id\n",
       "0   blow   1000035562\n",
       "1   wait   1000106739\n",
       "2  cloud    100015657\n",
       "3   bird   1000210073\n",
       "4   owie   1000240708"
      ]
     },
     "execution_count": 20,
     "metadata": {},
     "output_type": "execute_result"
    }
   ],
   "source": [
    "df2 = train[['sign', 'sequence_id']]\n",
    "df2.head()"
   ]
  },
  {
   "cell_type": "code",
   "execution_count": 21,
   "id": "b894df36",
   "metadata": {
    "execution": {
     "iopub.execute_input": "2024-06-27T08:24:49.318758Z",
     "iopub.status.busy": "2024-06-27T08:24:49.317862Z",
     "iopub.status.idle": "2024-06-27T08:24:49.333560Z",
     "shell.execute_reply": "2024-06-27T08:24:49.332408Z"
    },
    "papermill": {
     "duration": 0.041743,
     "end_time": "2024-06-27T08:24:49.336197",
     "exception": false,
     "start_time": "2024-06-27T08:24:49.294454",
     "status": "completed"
    },
    "tags": []
   },
   "outputs": [],
   "source": [
    "df_group = df2.groupby(['sign'])['sequence_id'].size()\n",
    "df_result = df_group.reset_index(name=\"nbr_of_sequences\")"
   ]
  },
  {
   "cell_type": "code",
   "execution_count": 22,
   "id": "e9f3afab",
   "metadata": {
    "execution": {
     "iopub.execute_input": "2024-06-27T08:24:49.383128Z",
     "iopub.status.busy": "2024-06-27T08:24:49.382663Z",
     "iopub.status.idle": "2024-06-27T08:24:51.749347Z",
     "shell.execute_reply": "2024-06-27T08:24:51.748286Z"
    },
    "papermill": {
     "duration": 2.392764,
     "end_time": "2024-06-27T08:24:51.751644",
     "exception": false,
     "start_time": "2024-06-27T08:24:49.358880",
     "status": "completed"
    },
    "tags": []
   },
   "outputs": [
    {
     "data": {
      "image/png": "[encoded data removed]",
      "text/plain": [
       "<Figure size 3000x500 with 1 Axes>"
      ]
     },
     "metadata": {},
     "output_type": "display_data"
    }
   ],
   "source": [
    "# Create a bar plot using Seaborn\n",
    "plt.figure(figsize=(30, 5))\n",
    "sns.barplot(x=np.array([i for i in range(250)]), y='nbr_of_sequences', data=df_result, palette='viridis')\n",
    "\n",
    "# Add titles and labels\n",
    "plt.title('Number of Sequences per Signs')\n",
    "plt.xlabel('signs')\n",
    "plt.ylabel('Number of Sequences')\n",
    "\n",
    "# Show the plot\n",
    "plt.show()"
   ]
  },
  {
   "cell_type": "code",
   "execution_count": 23,
   "id": "2d6c21a2",
   "metadata": {
    "execution": {
     "iopub.execute_input": "2024-06-27T08:24:51.800648Z",
     "iopub.status.busy": "2024-06-27T08:24:51.800178Z",
     "iopub.status.idle": "2024-06-27T08:24:51.815986Z",
     "shell.execute_reply": "2024-06-27T08:24:51.814814Z"
    },
    "papermill": {
     "duration": 0.043248,
     "end_time": "2024-06-27T08:24:51.818345",
     "exception": false,
     "start_time": "2024-06-27T08:24:51.775097",
     "status": "completed"
    },
    "tags": []
   },
   "outputs": [
    {
     "data": {
      "text/plain": [
       "sign\n",
       "listen    415\n",
       "look      414\n",
       "shhh      411\n",
       "donkey    410\n",
       "mouse     408\n",
       "         ... \n",
       "dance     312\n",
       "person    312\n",
       "beside    310\n",
       "vacuum    307\n",
       "zipper    299\n",
       "Name: count, Length: 250, dtype: int64"
      ]
     },
     "execution_count": 23,
     "metadata": {},
     "output_type": "execute_result"
    }
   ],
   "source": [
    "df2.sign.value_counts()"
   ]
  },
  {
   "cell_type": "markdown",
   "id": "e7c98097",
   "metadata": {
    "_cell_guid": "edad6bbe-c5ff-47b9-ae31-72df14be1a96",
    "_uuid": "7440a117-f2f4-4e2a-a47d-33882516b25d",
    "papermill": {
     "duration": 0.025011,
     "end_time": "2024-06-27T08:24:51.866507",
     "exception": false,
     "start_time": "2024-06-27T08:24:51.841496",
     "status": "completed"
    },
    "tags": []
   },
   "source": [
    "## Pre process dataset "
   ]
  },
  {
   "cell_type": "markdown",
   "id": "be042f4a",
   "metadata": {
    "_cell_guid": "35fe65e2-1605-471e-bd1e-1e80e09f47e8",
    "_uuid": "ab5f7c8d-e393-4edf-8d7f-eaee771e61b7",
    "papermill": {
     "duration": 0.023522,
     "end_time": "2024-06-27T08:24:51.913788",
     "exception": false,
     "start_time": "2024-06-27T08:24:51.890266",
     "status": "completed"
    },
    "tags": []
   },
   "source": [
    "### **Don't run following cell, it creates *preprocess_dataset***"
   ]
  },
  {
   "cell_type": "code",
   "execution_count": 24,
   "id": "be44466b",
   "metadata": {
    "_cell_guid": "7865e5f1-55be-450e-a471-51dcd6f90add",
    "_uuid": "a296e1fe-7590-4474-b9d5-f107504a914f",
    "collapsed": false,
    "execution": {
     "iopub.execute_input": "2024-06-27T08:24:51.963915Z",
     "iopub.status.busy": "2024-06-27T08:24:51.962516Z",
     "iopub.status.idle": "2024-06-27T08:24:51.969901Z",
     "shell.execute_reply": "2024-06-27T08:24:51.968742Z"
    },
    "jupyter": {
     "outputs_hidden": false
    },
    "papermill": {
     "duration": 0.034579,
     "end_time": "2024-06-27T08:24:51.972310",
     "exception": false,
     "start_time": "2024-06-27T08:24:51.937731",
     "status": "completed"
    },
    "tags": []
   },
   "outputs": [],
   "source": [
    "def preprocess_dataset(train):\n",
    "    processed_dataset = []\n",
    "    for idx,path in enumerate(train.path):\n",
    "        sequence_path = os.path.join(COMPETITION_PATH, path)\n",
    "        word = train[train.path == path].sign.values[0]\n",
    "        processed_sqc = get_data(sequence_path)\n",
    "\n",
    "        processed_dataset.append((processed_sqc, word))\n",
    "        \n",
    "    \n",
    "    return processed_dataset"
   ]
  },
  {
   "cell_type": "code",
   "execution_count": 25,
   "id": "205eae76",
   "metadata": {
    "_cell_guid": "1ceb524b-9f45-4aad-bbc8-b945b76f8184",
    "_uuid": "931ec815-b966-4e95-97ea-8b53cf0ae293",
    "collapsed": false,
    "execution": {
     "iopub.execute_input": "2024-06-27T08:24:52.021423Z",
     "iopub.status.busy": "2024-06-27T08:24:52.021003Z",
     "iopub.status.idle": "2024-06-27T08:24:52.025663Z",
     "shell.execute_reply": "2024-06-27T08:24:52.024525Z"
    },
    "jupyter": {
     "outputs_hidden": false
    },
    "papermill": {
     "duration": 0.032623,
     "end_time": "2024-06-27T08:24:52.028206",
     "exception": false,
     "start_time": "2024-06-27T08:24:51.995583",
     "status": "completed"
    },
    "tags": []
   },
   "outputs": [],
   "source": [
    "# to save dataset\n",
    "# with open(\"preprocess_dataset.pkl\", \"wb\") as fp:   #Pickling\n",
    "#     pickle.dump(processed_dataset, fp)"
   ]
  },
  {
   "cell_type": "code",
   "execution_count": 26,
   "id": "94513f1c",
   "metadata": {
    "_cell_guid": "9212f35a-273e-4947-a1da-3a93af4b91c8",
    "_uuid": "9354a105-6211-4e55-b451-5d91c3231f86",
    "collapsed": false,
    "execution": {
     "iopub.execute_input": "2024-06-27T08:24:52.076989Z",
     "iopub.status.busy": "2024-06-27T08:24:52.076565Z",
     "iopub.status.idle": "2024-06-27T08:25:41.896962Z",
     "shell.execute_reply": "2024-06-27T08:25:41.895809Z"
    },
    "jupyter": {
     "outputs_hidden": false
    },
    "papermill": {
     "duration": 49.847813,
     "end_time": "2024-06-27T08:25:41.899850",
     "exception": false,
     "start_time": "2024-06-27T08:24:52.052037",
     "status": "completed"
    },
    "tags": []
   },
   "outputs": [],
   "source": [
    "# to load dataset\n",
    "with open(PROCESS_DATASET_PATH, \"rb\") as fp:   # Unpickling\n",
    "    dataset = pickle.load(fp)"
   ]
  },
  {
   "cell_type": "markdown",
   "id": "204f789f",
   "metadata": {
    "_cell_guid": "851bcd7d-1e31-4b76-ba34-dc0ca3109e34",
    "_uuid": "d4017a2e-4ae9-4dff-bb3a-ed587ac1993d",
    "papermill": {
     "duration": 0.023401,
     "end_time": "2024-06-27T08:25:41.947666",
     "exception": false,
     "start_time": "2024-06-27T08:25:41.924265",
     "status": "completed"
    },
    "tags": []
   },
   "source": [
    "### **Custom class and Dataloader**"
   ]
  },
  {
   "cell_type": "code",
   "execution_count": 27,
   "id": "7a5d522a",
   "metadata": {
    "_cell_guid": "e9fa68be-501e-434c-8b3c-ac9cff4dc1ee",
    "_uuid": "10763b8c-0b5e-4923-944b-30d110e27f55",
    "collapsed": false,
    "execution": {
     "iopub.execute_input": "2024-06-27T08:25:41.996811Z",
     "iopub.status.busy": "2024-06-27T08:25:41.996372Z",
     "iopub.status.idle": "2024-06-27T08:25:45.810522Z",
     "shell.execute_reply": "2024-06-27T08:25:45.809195Z"
    },
    "jupyter": {
     "outputs_hidden": false
    },
    "papermill": {
     "duration": 3.841479,
     "end_time": "2024-06-27T08:25:45.813042",
     "exception": false,
     "start_time": "2024-06-27T08:25:41.971563",
     "status": "completed"
    },
    "tags": []
   },
   "outputs": [],
   "source": [
    "import torch\n",
    "import torch.nn as nn\n",
    "import torch.nn.functional as F\n",
    "import torch.optim as optim\n",
    "from torch.optim import lr_scheduler\n",
    "from torch.utils.data import Dataset, DataLoader\n",
    "\n",
    "from sklearn.model_selection import train_test_split"
   ]
  },
  {
   "cell_type": "code",
   "execution_count": 28,
   "id": "938d19d7",
   "metadata": {
    "_cell_guid": "ecf8a932-a9cc-4f7f-8394-bf0ab0f22e5b",
    "_uuid": "d8edc77c-bd2d-4321-9d36-5cf249a2a411",
    "collapsed": false,
    "execution": {
     "iopub.execute_input": "2024-06-27T08:25:45.863092Z",
     "iopub.status.busy": "2024-06-27T08:25:45.861628Z",
     "iopub.status.idle": "2024-06-27T08:25:45.869696Z",
     "shell.execute_reply": "2024-06-27T08:25:45.868572Z"
    },
    "jupyter": {
     "outputs_hidden": false
    },
    "papermill": {
     "duration": 0.03525,
     "end_time": "2024-06-27T08:25:45.872101",
     "exception": false,
     "start_time": "2024-06-27T08:25:45.836851",
     "status": "completed"
    },
    "tags": []
   },
   "outputs": [],
   "source": [
    "class ISLR(Dataset):\n",
    "    def __init__(self, dataset, split):\n",
    "        self.split = split\n",
    "        self.dataset = dataset\n",
    "        \n",
    "        if split == 'trainval':\n",
    "            self.islr_dataset = dataset[:int(0.8*len(dataset))]\n",
    "        elif split =='test':\n",
    "            self.islr_dataset = dataset[int(0.8*len(dataset)):]\n",
    "        \n",
    "    def __len__(self):\n",
    "        return len(self.islr_dataset)\n",
    "    \n",
    "    def __getitem__(self, index):\n",
    "        sample = self.islr_dataset[index]\n",
    "        features = torch.FloatTensor(sample[0])\n",
    "        target = WORD2IDX[sample[1]]\n",
    "        \n",
    "        return features, target"
   ]
  },
  {
   "cell_type": "code",
   "execution_count": 29,
   "id": "8804a8bc",
   "metadata": {
    "_cell_guid": "483364a8-e19b-424d-b132-c74a5d314fee",
    "_uuid": "202ae3f3-a409-4c03-979a-3d622fb7831c",
    "collapsed": false,
    "execution": {
     "iopub.execute_input": "2024-06-27T08:25:45.920674Z",
     "iopub.status.busy": "2024-06-27T08:25:45.920219Z",
     "iopub.status.idle": "2024-06-27T08:25:45.927244Z",
     "shell.execute_reply": "2024-06-27T08:25:45.926128Z"
    },
    "jupyter": {
     "outputs_hidden": false
    },
    "papermill": {
     "duration": 0.033928,
     "end_time": "2024-06-27T08:25:45.929379",
     "exception": false,
     "start_time": "2024-06-27T08:25:45.895451",
     "status": "completed"
    },
    "tags": []
   },
   "outputs": [],
   "source": [
    "testset = ISLR(dataset, split='test')\n",
    "trainvalset = ISLR(dataset, split='trainval')"
   ]
  },
  {
   "cell_type": "code",
   "execution_count": 30,
   "id": "48c6c983",
   "metadata": {
    "_cell_guid": "7254a98b-e432-47ad-aebb-39f3a1365f7c",
    "_uuid": "b1a1f9ef-0bbf-4a9c-9bf9-6ccc2969cf67",
    "collapsed": false,
    "execution": {
     "iopub.execute_input": "2024-06-27T08:25:45.977995Z",
     "iopub.status.busy": "2024-06-27T08:25:45.977571Z",
     "iopub.status.idle": "2024-06-27T08:25:49.168495Z",
     "shell.execute_reply": "2024-06-27T08:25:49.167393Z"
    },
    "jupyter": {
     "outputs_hidden": false
    },
    "papermill": {
     "duration": 3.218174,
     "end_time": "2024-06-27T08:25:49.171083",
     "exception": false,
     "start_time": "2024-06-27T08:25:45.952909",
     "status": "completed"
    },
    "tags": []
   },
   "outputs": [],
   "source": [
    "trainset, valset = train_test_split(trainvalset,test_size=0.1, random_state=42)"
   ]
  },
  {
   "cell_type": "code",
   "execution_count": 31,
   "id": "f4e9330c",
   "metadata": {
    "_cell_guid": "fccb62e6-e147-4d9b-bf3f-8ee083b6d807",
    "_uuid": "a6b198d7-8b65-4217-b795-676dcd71dca6",
    "collapsed": false,
    "execution": {
     "iopub.execute_input": "2024-06-27T08:25:49.219885Z",
     "iopub.status.busy": "2024-06-27T08:25:49.219458Z",
     "iopub.status.idle": "2024-06-27T08:25:49.226782Z",
     "shell.execute_reply": "2024-06-27T08:25:49.225672Z"
    },
    "jupyter": {
     "outputs_hidden": false
    },
    "papermill": {
     "duration": 0.034422,
     "end_time": "2024-06-27T08:25:49.229241",
     "exception": false,
     "start_time": "2024-06-27T08:25:49.194819",
     "status": "completed"
    },
    "tags": []
   },
   "outputs": [],
   "source": [
    "def custom_collate_fn(batch):\n",
    "    padded_batch = []\n",
    "    labels= []\n",
    "\n",
    "    max_frame = max(len(sequence) for sequence,_ in batch)\n",
    "#     print(max_frame)\n",
    "    for sequence, label in batch:\n",
    "        padding_array = -np.ones(((max_frame-len(sequence)), len(REDUCED_LANDMARKS), 2))\n",
    "        padded_sequence = sequence.tolist()+padding_array.tolist()\n",
    "\n",
    "        padded_batch.append(padded_sequence)\n",
    "        labels.append(label)\n",
    "\n",
    "\n",
    "    return torch.tensor(padded_batch), torch.tensor(labels)"
   ]
  },
  {
   "cell_type": "code",
   "execution_count": 32,
   "id": "0a22a2da",
   "metadata": {
    "_cell_guid": "df63084e-ca1e-4455-ab40-425d8aef9ee8",
    "_uuid": "7331b525-8d28-47e8-b0a4-5c88c0f5ee25",
    "collapsed": false,
    "execution": {
     "iopub.execute_input": "2024-06-27T08:25:49.277677Z",
     "iopub.status.busy": "2024-06-27T08:25:49.277230Z",
     "iopub.status.idle": "2024-06-27T08:25:49.283304Z",
     "shell.execute_reply": "2024-06-27T08:25:49.282082Z"
    },
    "jupyter": {
     "outputs_hidden": false
    },
    "papermill": {
     "duration": 0.033305,
     "end_time": "2024-06-27T08:25:49.285785",
     "exception": false,
     "start_time": "2024-06-27T08:25:49.252480",
     "status": "completed"
    },
    "tags": []
   },
   "outputs": [],
   "source": [
    "train_loader = DataLoader(trainset, \n",
    "                          batch_size=8, \n",
    "                          collate_fn=custom_collate_fn, \n",
    "                          shuffle=True,\n",
    "                          num_workers=4)"
   ]
  },
  {
   "cell_type": "code",
   "execution_count": 33,
   "id": "6b0dbd25",
   "metadata": {
    "_cell_guid": "45d3940d-473a-4015-95fc-ca3edeb1e197",
    "_uuid": "7e85ece8-fdf4-49b6-a888-4bf4e6ef79b1",
    "collapsed": false,
    "execution": {
     "iopub.execute_input": "2024-06-27T08:25:49.334335Z",
     "iopub.status.busy": "2024-06-27T08:25:49.333940Z",
     "iopub.status.idle": "2024-06-27T08:25:49.339753Z",
     "shell.execute_reply": "2024-06-27T08:25:49.338312Z"
    },
    "jupyter": {
     "outputs_hidden": false
    },
    "papermill": {
     "duration": 0.03271,
     "end_time": "2024-06-27T08:25:49.342141",
     "exception": false,
     "start_time": "2024-06-27T08:25:49.309431",
     "status": "completed"
    },
    "tags": []
   },
   "outputs": [],
   "source": [
    "val_loader = DataLoader(valset,\n",
    "                        batch_size=8,\n",
    "                        collate_fn=custom_collate_fn,\n",
    "                        shuffle=False,\n",
    "                        num_workers=4)"
   ]
  },
  {
   "cell_type": "code",
   "execution_count": 34,
   "id": "f27f69bd",
   "metadata": {
    "_cell_guid": "ef273946-db0c-4d41-9819-4a11261d4b51",
    "_uuid": "1ef2b6df-d3ac-4dd9-9477-209f4c523a70",
    "collapsed": false,
    "execution": {
     "iopub.execute_input": "2024-06-27T08:25:49.390513Z",
     "iopub.status.busy": "2024-06-27T08:25:49.390074Z",
     "iopub.status.idle": "2024-06-27T08:25:49.395629Z",
     "shell.execute_reply": "2024-06-27T08:25:49.394633Z"
    },
    "jupyter": {
     "outputs_hidden": false
    },
    "papermill": {
     "duration": 0.032221,
     "end_time": "2024-06-27T08:25:49.397667",
     "exception": false,
     "start_time": "2024-06-27T08:25:49.365446",
     "status": "completed"
    },
    "tags": []
   },
   "outputs": [],
   "source": [
    "test_loader = DataLoader(testset,\n",
    "                         batch_size=8,\n",
    "                         collate_fn=custom_collate_fn,\n",
    "                         shuffle=False,\n",
    "                         num_workers=4)"
   ]
  },
  {
   "cell_type": "code",
   "execution_count": 35,
   "id": "c2207a05",
   "metadata": {
    "_cell_guid": "690d9344-eefa-49e2-a203-c9e834c1a19f",
    "_uuid": "cc1e5c06-fa0a-4193-bc67-60eb27c71a3a",
    "collapsed": false,
    "execution": {
     "iopub.execute_input": "2024-06-27T08:25:49.446574Z",
     "iopub.status.busy": "2024-06-27T08:25:49.446162Z",
     "iopub.status.idle": "2024-06-27T08:25:49.818563Z",
     "shell.execute_reply": "2024-06-27T08:25:49.814058Z"
    },
    "jupyter": {
     "outputs_hidden": false
    },
    "papermill": {
     "duration": 0.403152,
     "end_time": "2024-06-27T08:25:49.824031",
     "exception": false,
     "start_time": "2024-06-27T08:25:49.420879",
     "status": "completed"
    },
    "tags": []
   },
   "outputs": [],
   "source": [
    "custom_it = enumerate(train_loader)"
   ]
  },
  {
   "cell_type": "code",
   "execution_count": 36,
   "id": "c6802511",
   "metadata": {
    "_cell_guid": "e6d1aa37-cbdf-4417-a13b-18647cbc136f",
    "_uuid": "a8eb3c38-53b8-462d-ac20-8993c75042a6",
    "collapsed": false,
    "execution": {
     "iopub.execute_input": "2024-06-27T08:25:49.969579Z",
     "iopub.status.busy": "2024-06-27T08:25:49.968993Z",
     "iopub.status.idle": "2024-06-27T08:25:50.879661Z",
     "shell.execute_reply": "2024-06-27T08:25:50.877969Z"
    },
    "jupyter": {
     "outputs_hidden": false
    },
    "papermill": {
     "duration": 0.99353,
     "end_time": "2024-06-27T08:25:50.884977",
     "exception": false,
     "start_time": "2024-06-27T08:25:49.891447",
     "status": "completed"
    },
    "tags": []
   },
   "outputs": [],
   "source": [
    "idx,(sqc,lb)=next(custom_it)"
   ]
  },
  {
   "cell_type": "markdown",
   "id": "be41c923",
   "metadata": {
    "_cell_guid": "33fc046e-79a3-4327-8063-b28ee16bb4ea",
    "_uuid": "bcdadbb9-9666-4863-ba2a-47a896ce087a",
    "papermill": {
     "duration": 0.0462,
     "end_time": "2024-06-27T08:25:51.033011",
     "exception": false,
     "start_time": "2024-06-27T08:25:50.986811",
     "status": "completed"
    },
    "tags": []
   },
   "source": [
    "## **Model architecture**"
   ]
  },
  {
   "cell_type": "markdown",
   "id": "d7d97d54",
   "metadata": {
    "_cell_guid": "ea282845-3627-4701-8a8e-80af5b974240",
    "_uuid": "b242c4d7-401f-41a5-b40c-207013336e78",
    "papermill": {
     "duration": 0.065468,
     "end_time": "2024-06-27T08:25:51.134939",
     "exception": false,
     "start_time": "2024-06-27T08:25:51.069471",
     "status": "completed"
    },
    "tags": []
   },
   "source": [
    "### Transformer"
   ]
  },
  {
   "cell_type": "code",
   "execution_count": 37,
   "id": "cf932e24",
   "metadata": {
    "_cell_guid": "2142e148-a301-4fb6-8a65-56854b678489",
    "_uuid": "e59b1247-59e7-4f7d-b035-67d8f02291e8",
    "collapsed": false,
    "execution": {
     "iopub.execute_input": "2024-06-27T08:25:51.264243Z",
     "iopub.status.busy": "2024-06-27T08:25:51.263270Z",
     "iopub.status.idle": "2024-06-27T08:25:51.288243Z",
     "shell.execute_reply": "2024-06-27T08:25:51.286875Z"
    },
    "jupyter": {
     "outputs_hidden": false
    },
    "papermill": {
     "duration": 0.081192,
     "end_time": "2024-06-27T08:25:51.291694",
     "exception": false,
     "start_time": "2024-06-27T08:25:51.210502",
     "status": "completed"
    },
    "tags": []
   },
   "outputs": [],
   "source": [
    "class TransformerModel(nn.Module):\n",
    "    def __init__(self, input_dim, num_heads, num_layers, hidden_dim, output_dim, n_landmarks, max_seq_length=1000):\n",
    "        super(TransformerModel, self).__init__()\n",
    "        self.embedding = nn.Linear(input_dim*n_landmarks, hidden_dim) # change encoding \n",
    "        self.layer_norm1 = nn.LayerNorm(hidden_dim)\n",
    "        self.positional_encoding = self.create_positional_encoding(max_seq_length, hidden_dim)\n",
    "        encoder_layers = nn.TransformerEncoderLayer(d_model=hidden_dim, nhead=num_heads)\n",
    "        self.transformer_encoder = nn.TransformerEncoder(encoder_layers, num_layers)\n",
    "        self.fc = nn.Linear(hidden_dim, output_dim)\n",
    "        \n",
    "        \n",
    "    def forward(self, x):\n",
    "        \n",
    "        batch_size, n_frames, n_landmarks, input_dim = x.shape\n",
    "        pad_mask = self.sequence_mask(x)\n",
    "        pad_mask = pad_mask.to(device)\n",
    "        \n",
    "        # Flatten n_landmarks and input_dim for embedding\n",
    "        x = x.view(batch_size, n_frames, -1)\n",
    "        x = x.to(device)\n",
    "        x = self.embedding(x)\n",
    "        \n",
    "        x = self.layer_norm1(x)\n",
    "        x += self.positional_encoding[:, :n_frames, :].to(device)\n",
    "        x = x.permute(1, 0, 2)  # Transformer expects sequence length first\n",
    "                \n",
    "        transformer_out = self.transformer_encoder(x,src_key_padding_mask=pad_mask)\n",
    "        out = self.fc(transformer_out[-1, :, :])\n",
    "        assert not torch.isnan(out).any(), \"NaN in final output\"\n",
    "        \n",
    "        return out\n",
    "    \n",
    "    def create_positional_encoding(self, max_seq_length, hidden_dim):\n",
    "        position = torch.arange(0, max_seq_length, dtype=torch.float).unsqueeze(1)\n",
    "        div_term = torch.exp(torch.arange(0, hidden_dim, 2).float() * (-torch.log(torch.tensor(10000.0)) / hidden_dim))\n",
    "        \n",
    "        positional_encoding = torch.zeros(max_seq_length, hidden_dim)\n",
    "        positional_encoding[:, 0::2] = torch.sin(position * div_term)\n",
    "        positional_encoding[:, 1::2] = torch.cos(position * div_term)\n",
    "        \n",
    "        return positional_encoding.unsqueeze(0)\n",
    "    \n",
    "    def sequence_mask(self, sequence):\n",
    "        lengths = [self.valid_len(padded_sequence) for padded_sequence in sequence]\n",
    "        \n",
    "        mask = torch.zeros(sequence.size()[:2], dtype=torch.bool)  # shape: [batch_size, n_frames]\n",
    "        for i, length in enumerate(lengths):\n",
    "            mask[i, :length] = 1\n",
    "        \n",
    "        mask = ~mask # True values are ignored\n",
    "        return mask\n",
    "\n",
    "        \n",
    "    def valid_len(self, padded_sequence):\n",
    "        for idx, frame in  enumerate(padded_sequence):\n",
    "            if -1 in frame:\n",
    "                break\n",
    "\n",
    "        return idx+1"
   ]
  },
  {
   "cell_type": "code",
   "execution_count": 38,
   "id": "06c3e2f7",
   "metadata": {
    "_cell_guid": "9f2280bb-ea82-4c8f-96be-8b3895cc556b",
    "_uuid": "eddac992-2444-4a4d-aa75-6686863cc010",
    "collapsed": false,
    "execution": {
     "iopub.execute_input": "2024-06-27T08:25:51.442801Z",
     "iopub.status.busy": "2024-06-27T08:25:51.441179Z",
     "iopub.status.idle": "2024-06-27T08:25:51.564210Z",
     "shell.execute_reply": "2024-06-27T08:25:51.562651Z"
    },
    "jupyter": {
     "outputs_hidden": false
    },
    "papermill": {
     "duration": 0.178628,
     "end_time": "2024-06-27T08:25:51.567942",
     "exception": false,
     "start_time": "2024-06-27T08:25:51.389314",
     "status": "completed"
    },
    "tags": []
   },
   "outputs": [
    {
     "name": "stdout",
     "output_type": "stream",
     "text": [
      "TransformerModel(\n",
      "  (embedding): Linear(in_features=184, out_features=64, bias=True)\n",
      "  (layer_norm1): LayerNorm((64,), eps=1e-05, elementwise_affine=True)\n",
      "  (transformer_encoder): TransformerEncoder(\n",
      "    (layers): ModuleList(\n",
      "      (0-1): 2 x TransformerEncoderLayer(\n",
      "        (self_attn): MultiheadAttention(\n",
      "          (out_proj): NonDynamicallyQuantizableLinear(in_features=64, out_features=64, bias=True)\n",
      "        )\n",
      "        (linear1): Linear(in_features=64, out_features=2048, bias=True)\n",
      "        (dropout): Dropout(p=0.1, inplace=False)\n",
      "        (linear2): Linear(in_features=2048, out_features=64, bias=True)\n",
      "        (norm1): LayerNorm((64,), eps=1e-05, elementwise_affine=True)\n",
      "        (norm2): LayerNorm((64,), eps=1e-05, elementwise_affine=True)\n",
      "        (dropout1): Dropout(p=0.1, inplace=False)\n",
      "        (dropout2): Dropout(p=0.1, inplace=False)\n",
      "      )\n",
      "    )\n",
      "  )\n",
      "  (fc): Linear(in_features=64, out_features=250, bias=True)\n",
      ")\n"
     ]
    },
    {
     "name": "stderr",
     "output_type": "stream",
     "text": [
      "/opt/conda/lib/python3.10/site-packages/torch/nn/modules/transformer.py:282: UserWarning: enable_nested_tensor is True, but self.use_nested_tensor is False because encoder_layer.self_attn.batch_first was not True(use batch_first for better inference performance)\n",
      "  warnings.warn(f\"enable_nested_tensor is True, but self.use_nested_tensor is False because {why_not_sparsity_fast_path}\")\n"
     ]
    }
   ],
   "source": [
    "input_dim = 2  # (x, y)\n",
    "num_heads = 4\n",
    "num_layers = 2\n",
    "hidden_dim = 64\n",
    "output_dim = 250  # number of classes\n",
    "n_landmarks = 92\n",
    "\n",
    "\n",
    "model1 = TransformerModel(input_dim=input_dim,\n",
    "                         num_heads=num_heads,\n",
    "                         num_layers=num_layers,\n",
    "                         hidden_dim=hidden_dim,\n",
    "                         output_dim=output_dim,\n",
    "                         n_landmarks=n_landmarks)\n",
    "\n",
    "device = 'cuda' if torch.cuda.is_available() else 'cpu'\n",
    "model1 = model1.to(device)\n",
    "print(model1)"
   ]
  },
  {
   "cell_type": "code",
   "execution_count": 39,
   "id": "1f01b2bb",
   "metadata": {
    "execution": {
     "iopub.execute_input": "2024-06-27T08:25:51.647473Z",
     "iopub.status.busy": "2024-06-27T08:25:51.646093Z",
     "iopub.status.idle": "2024-06-27T08:25:51.848232Z",
     "shell.execute_reply": "2024-06-27T08:25:51.847001Z"
    },
    "papermill": {
     "duration": 0.233417,
     "end_time": "2024-06-27T08:25:51.850639",
     "exception": false,
     "start_time": "2024-06-27T08:25:51.617222",
     "status": "completed"
    },
    "tags": []
   },
   "outputs": [
    {
     "data": {
      "text/plain": [
       "tensor([[ 0.2612,  0.1592, -0.4816,  ..., -0.6208, -0.4169,  0.9764],\n",
       "        [ 0.3504,  0.3664, -0.1558,  ..., -0.1052, -0.4321,  1.1036],\n",
       "        [ 0.3027,  0.3561,  0.0777,  ..., -0.1958, -0.6545,  0.8263],\n",
       "        ...,\n",
       "        [ 0.2672,  0.2032,  0.0893,  ...,  0.1331, -0.6327,  1.2763],\n",
       "        [ 0.3919,  0.2070, -0.3691,  ..., -0.5556, -0.5756,  0.7526],\n",
       "        [ 0.4517,  0.2955, -0.1063,  ..., -0.0223, -0.5781,  1.1260]],\n",
       "       grad_fn=<AddmmBackward0>)"
      ]
     },
     "execution_count": 39,
     "metadata": {},
     "output_type": "execute_result"
    }
   ],
   "source": [
    "model1(sqc)"
   ]
  },
  {
   "cell_type": "code",
   "execution_count": 40,
   "id": "9eceeacb",
   "metadata": {
    "execution": {
     "iopub.execute_input": "2024-06-27T08:25:51.900109Z",
     "iopub.status.busy": "2024-06-27T08:25:51.899692Z",
     "iopub.status.idle": "2024-06-27T08:25:51.916504Z",
     "shell.execute_reply": "2024-06-27T08:25:51.915438Z"
    },
    "papermill": {
     "duration": 0.044196,
     "end_time": "2024-06-27T08:25:51.919051",
     "exception": false,
     "start_time": "2024-06-27T08:25:51.874855",
     "status": "completed"
    },
    "tags": []
   },
   "outputs": [
    {
     "name": "stdout",
     "output_type": "stream",
     "text": [
      "TransformerModel(\n",
      "  (embedding): Linear(in_features=184, out_features=32, bias=True)\n",
      "  (layer_norm1): LayerNorm((32,), eps=1e-05, elementwise_affine=True)\n",
      "  (transformer_encoder): TransformerEncoder(\n",
      "    (layers): ModuleList(\n",
      "      (0): TransformerEncoderLayer(\n",
      "        (self_attn): MultiheadAttention(\n",
      "          (out_proj): NonDynamicallyQuantizableLinear(in_features=32, out_features=32, bias=True)\n",
      "        )\n",
      "        (linear1): Linear(in_features=32, out_features=2048, bias=True)\n",
      "        (dropout): Dropout(p=0.1, inplace=False)\n",
      "        (linear2): Linear(in_features=2048, out_features=32, bias=True)\n",
      "        (norm1): LayerNorm((32,), eps=1e-05, elementwise_affine=True)\n",
      "        (norm2): LayerNorm((32,), eps=1e-05, elementwise_affine=True)\n",
      "        (dropout1): Dropout(p=0.1, inplace=False)\n",
      "        (dropout2): Dropout(p=0.1, inplace=False)\n",
      "      )\n",
      "    )\n",
      "  )\n",
      "  (fc): Linear(in_features=32, out_features=250, bias=True)\n",
      ")\n"
     ]
    }
   ],
   "source": [
    "# smaller model, model2\n",
    "\n",
    "num_heads = 2\n",
    "num_layers = 1\n",
    "hidden_dim = 32\n",
    "\n",
    "\n",
    "model2 = TransformerModel(input_dim=input_dim,\n",
    "                         num_heads=num_heads,\n",
    "                         num_layers=num_layers,\n",
    "                         hidden_dim=hidden_dim,\n",
    "                         output_dim=output_dim,\n",
    "                         n_landmarks=n_landmarks)\n",
    "\n",
    "device = 'cuda' if torch.cuda.is_available() else 'cpu'\n",
    "model2 = model2.to(device)\n",
    "print(model2)"
   ]
  },
  {
   "cell_type": "markdown",
   "id": "0389af34",
   "metadata": {
    "_cell_guid": "de49cb8c-8b89-4a8e-a9f5-327f291bc69b",
    "_uuid": "c5aaaa79-0845-4179-9017-8517050b9262",
    "papermill": {
     "duration": 0.023614,
     "end_time": "2024-06-27T08:25:51.966498",
     "exception": false,
     "start_time": "2024-06-27T08:25:51.942884",
     "status": "completed"
    },
    "tags": []
   },
   "source": [
    "### **Training Phase**"
   ]
  },
  {
   "cell_type": "markdown",
   "id": "cf355978",
   "metadata": {
    "papermill": {
     "duration": 0.023257,
     "end_time": "2024-06-27T08:25:52.013353",
     "exception": false,
     "start_time": "2024-06-27T08:25:51.990096",
     "status": "completed"
    },
    "tags": []
   },
   "source": [
    "### Train several models to compare"
   ]
  },
  {
   "cell_type": "code",
   "execution_count": 41,
   "id": "c17f17d4",
   "metadata": {
    "execution": {
     "iopub.execute_input": "2024-06-27T08:25:52.062914Z",
     "iopub.status.busy": "2024-06-27T08:25:52.062520Z",
     "iopub.status.idle": "2024-06-27T08:25:52.068710Z",
     "shell.execute_reply": "2024-06-27T08:25:52.067464Z"
    },
    "papermill": {
     "duration": 0.034195,
     "end_time": "2024-06-27T08:25:52.071704",
     "exception": false,
     "start_time": "2024-06-27T08:25:52.037509",
     "status": "completed"
    },
    "tags": []
   },
   "outputs": [
    {
     "name": "stdout",
     "output_type": "stream",
     "text": [
      "Using device: cpu\n"
     ]
    }
   ],
   "source": [
    "device = torch.device(\"cuda\" if torch.cuda.is_available() else \"cpu\")\n",
    "print(f\"Using device: {device}\")"
   ]
  },
  {
   "cell_type": "code",
   "execution_count": 42,
   "id": "14f4af85",
   "metadata": {
    "execution": {
     "iopub.execute_input": "2024-06-27T08:25:52.125824Z",
     "iopub.status.busy": "2024-06-27T08:25:52.124684Z",
     "iopub.status.idle": "2024-06-27T08:25:52.130317Z",
     "shell.execute_reply": "2024-06-27T08:25:52.129092Z"
    },
    "papermill": {
     "duration": 0.037012,
     "end_time": "2024-06-27T08:25:52.132713",
     "exception": false,
     "start_time": "2024-06-27T08:25:52.095701",
     "status": "completed"
    },
    "tags": []
   },
   "outputs": [],
   "source": [
    "MODEL1_PATH = \"/kaggle/input/islr_transformer_model1_30epochs/pytorch/model1_45ep/1/pointnet_transformer_model1_45.pth\"\n",
    "MODEL2_PATH = \"/kaggle/input/islr_transformer_model2/pytorch/model2_45ep/1/pointnet_transformer_model2_45.pth\""
   ]
  },
  {
   "cell_type": "code",
   "execution_count": 43,
   "id": "58d51775",
   "metadata": {
    "execution": {
     "iopub.execute_input": "2024-06-27T08:25:52.182713Z",
     "iopub.status.busy": "2024-06-27T08:25:52.181669Z",
     "iopub.status.idle": "2024-06-27T08:25:52.258901Z",
     "shell.execute_reply": "2024-06-27T08:25:52.257660Z"
    },
    "papermill": {
     "duration": 0.105215,
     "end_time": "2024-06-27T08:25:52.261508",
     "exception": false,
     "start_time": "2024-06-27T08:25:52.156293",
     "status": "completed"
    },
    "tags": []
   },
   "outputs": [],
   "source": [
    "input_dim = 2  # (x, y)\n",
    "num_heads = 4\n",
    "num_layers = 2\n",
    "hidden_dim = 64\n",
    "output_dim = 250\n",
    "n_landmarks = 92\n",
    "\n",
    "model1 = TransformerModel(input_dim=input_dim,\n",
    "                         num_heads=num_heads,\n",
    "                         num_layers=num_layers,\n",
    "                         hidden_dim=hidden_dim,\n",
    "                         output_dim=output_dim,\n",
    "                         n_landmarks=n_landmarks)\n",
    "\n",
    "if  torch.cuda.is_available():\n",
    "    model1.load_state_dict(torch.load(MODEL1_PATH))\n",
    "else:\n",
    "    model1.load_state_dict(torch.load(MODEL1_PATH, map_location=torch.device('cpu')))\n"
   ]
  },
  {
   "cell_type": "code",
   "execution_count": 44,
   "id": "0da0ee11",
   "metadata": {
    "execution": {
     "iopub.execute_input": "2024-06-27T08:25:52.311626Z",
     "iopub.status.busy": "2024-06-27T08:25:52.311196Z",
     "iopub.status.idle": "2024-06-27T08:25:52.339384Z",
     "shell.execute_reply": "2024-06-27T08:25:52.338150Z"
    },
    "papermill": {
     "duration": 0.056595,
     "end_time": "2024-06-27T08:25:52.342127",
     "exception": false,
     "start_time": "2024-06-27T08:25:52.285532",
     "status": "completed"
    },
    "tags": []
   },
   "outputs": [],
   "source": [
    "input_dim = 2  # (x, y)\n",
    "num_heads = 2\n",
    "num_layers = 1\n",
    "hidden_dim = 32\n",
    "output_dim = 250\n",
    "n_landmarks = 92\n",
    "\n",
    "model2 = TransformerModel(input_dim=input_dim,\n",
    "                         num_heads=num_heads,\n",
    "                         num_layers=num_layers,\n",
    "                         hidden_dim=hidden_dim,\n",
    "                         output_dim=output_dim,\n",
    "                         n_landmarks=n_landmarks)\n",
    "\n",
    "if torch.cuda.is_available():\n",
    "    model2.load_state_dict(torch.load(MODEL2_PATH))\n",
    "else:\n",
    "    model2.load_state_dict(torch.load(MODEL2_PATH, map_location=torch.device('cpu')))"
   ]
  },
  {
   "cell_type": "code",
   "execution_count": 45,
   "id": "cd461d38",
   "metadata": {
    "execution": {
     "iopub.execute_input": "2024-06-27T08:25:52.397543Z",
     "iopub.status.busy": "2024-06-27T08:25:52.397096Z",
     "iopub.status.idle": "2024-06-27T08:25:52.405777Z",
     "shell.execute_reply": "2024-06-27T08:25:52.404572Z"
    },
    "papermill": {
     "duration": 0.039155,
     "end_time": "2024-06-27T08:25:52.408010",
     "exception": false,
     "start_time": "2024-06-27T08:25:52.368855",
     "status": "completed"
    },
    "tags": []
   },
   "outputs": [
    {
     "data": {
      "text/plain": [
       "TransformerModel(\n",
       "  (embedding): Linear(in_features=184, out_features=32, bias=True)\n",
       "  (layer_norm1): LayerNorm((32,), eps=1e-05, elementwise_affine=True)\n",
       "  (transformer_encoder): TransformerEncoder(\n",
       "    (layers): ModuleList(\n",
       "      (0): TransformerEncoderLayer(\n",
       "        (self_attn): MultiheadAttention(\n",
       "          (out_proj): NonDynamicallyQuantizableLinear(in_features=32, out_features=32, bias=True)\n",
       "        )\n",
       "        (linear1): Linear(in_features=32, out_features=2048, bias=True)\n",
       "        (dropout): Dropout(p=0.1, inplace=False)\n",
       "        (linear2): Linear(in_features=2048, out_features=32, bias=True)\n",
       "        (norm1): LayerNorm((32,), eps=1e-05, elementwise_affine=True)\n",
       "        (norm2): LayerNorm((32,), eps=1e-05, elementwise_affine=True)\n",
       "        (dropout1): Dropout(p=0.1, inplace=False)\n",
       "        (dropout2): Dropout(p=0.1, inplace=False)\n",
       "      )\n",
       "    )\n",
       "  )\n",
       "  (fc): Linear(in_features=32, out_features=250, bias=True)\n",
       ")"
      ]
     },
     "execution_count": 45,
     "metadata": {},
     "output_type": "execute_result"
    }
   ],
   "source": [
    "model1.to(device)\n",
    "model2.to(device)"
   ]
  },
  {
   "cell_type": "code",
   "execution_count": 46,
   "id": "a0789121",
   "metadata": {
    "_cell_guid": "43938ecb-5b40-42fa-ac93-9919767a1f92",
    "_uuid": "60d5657f-da9d-4668-abc8-9b678f491132",
    "collapsed": false,
    "execution": {
     "iopub.execute_input": "2024-06-27T08:25:52.461752Z",
     "iopub.status.busy": "2024-06-27T08:25:52.461336Z",
     "iopub.status.idle": "2024-06-27T08:25:52.637278Z",
     "shell.execute_reply": "2024-06-27T08:25:52.636241Z"
    },
    "jupyter": {
     "outputs_hidden": false
    },
    "papermill": {
     "duration": 0.204972,
     "end_time": "2024-06-27T08:25:52.639940",
     "exception": false,
     "start_time": "2024-06-27T08:25:52.434968",
     "status": "completed"
    },
    "tags": []
   },
   "outputs": [],
   "source": [
    "o1 = model1(sqc)\n",
    "o2 = model2(sqc)"
   ]
  },
  {
   "cell_type": "code",
   "execution_count": 47,
   "id": "5d5f57c6",
   "metadata": {
    "execution": {
     "iopub.execute_input": "2024-06-27T08:25:52.689367Z",
     "iopub.status.busy": "2024-06-27T08:25:52.688932Z",
     "iopub.status.idle": "2024-06-27T08:25:54.616655Z",
     "shell.execute_reply": "2024-06-27T08:25:54.615317Z"
    },
    "papermill": {
     "duration": 1.955445,
     "end_time": "2024-06-27T08:25:54.619287",
     "exception": false,
     "start_time": "2024-06-27T08:25:52.663842",
     "status": "completed"
    },
    "tags": []
   },
   "outputs": [],
   "source": [
    "loss_function = nn.CrossEntropyLoss()\n",
    "optim1 = optim.SGD(model1.parameters(), lr=0.001, momentum=0.9)\n",
    "optim2 = optim.SGD(model2.parameters(), lr=0.001, momentum=0.9)"
   ]
  },
  {
   "cell_type": "code",
   "execution_count": 48,
   "id": "762831b4",
   "metadata": {
    "execution": {
     "iopub.execute_input": "2024-06-27T08:25:54.677478Z",
     "iopub.status.busy": "2024-06-27T08:25:54.676458Z",
     "iopub.status.idle": "2024-06-27T08:25:54.685658Z",
     "shell.execute_reply": "2024-06-27T08:25:54.684183Z"
    },
    "papermill": {
     "duration": 0.041661,
     "end_time": "2024-06-27T08:25:54.688622",
     "exception": false,
     "start_time": "2024-06-27T08:25:54.646961",
     "status": "completed"
    },
    "tags": []
   },
   "outputs": [],
   "source": [
    "# num_epochs = 15\n",
    "\n",
    "# dataloader = train_loader\n",
    "\n",
    "# for epoch in range(num_epochs):\n",
    "\n",
    "#     print(f'Epoch {epoch+1}/{num_epochs}')\n",
    "#     print('-' * 10)\n",
    "    \n",
    "#     model1.train()\n",
    "#     model2.train()\n",
    "    \n",
    "#     running_l1 = 0.0\n",
    "#     running_l2 = 0.0\n",
    "\n",
    "#     for sequence, label in dataloader:\n",
    "#         sequence, label = sequence.to(device), label.to(device)\n",
    "        \n",
    "#         optim1.zero_grad()\n",
    "#         optim2.zero_grad()\n",
    "\n",
    "\n",
    "#         target = label\n",
    "        \n",
    "#         out1 = model1(sequence)\n",
    "#         out2 = model2(sequence)\n",
    "\n",
    "\n",
    "#         # Compute the loss, gradients, and update optimizer\n",
    "#         loss1 = loss_function(out1, target)\n",
    "#         loss2 = loss_function(out2, target)\n",
    "\n",
    "#         loss1.backward()\n",
    "#         loss2.backward()\n",
    "        \n",
    "#         optim1.step()\n",
    "#         optim2.step()\n",
    "\n",
    "    \n",
    "#         running_l1 += loss1.item()\n",
    "#         running_l2 += loss2.item()\n",
    "        \n",
    "\n",
    "\n",
    "#     epoch_l1 = running_l1 / len(dataloader)\n",
    "#     epoch_l2 = running_l2 / len(dataloader)\n",
    "\n",
    "#     print(f\"Epoch {epoch+1}/{num_epochs}, Training Loss: {epoch_l1:.4f}\")\n",
    "#     print(f\"Epoch {epoch+1}/{num_epochs}, Training Loss: {epoch_l2:.4f}\")\n",
    "\n",
    "    \n",
    "#     # Validation step\n",
    "#     model1.eval()\n",
    "#     model2.eval()\n",
    "\n",
    "#     val_loss1 = 0.0\n",
    "#     correct_top5_mod1 = 0\n",
    "#     correct_mod1 = 0\n",
    "    \n",
    "#     val_loss2 = 0.0\n",
    "#     correct_top5_mod2 = 0\n",
    "#     correct_mod2= 0\n",
    "    \n",
    "#     total = 0\n",
    "    \n",
    "#     with torch.no_grad():\n",
    "#         for sequence, label in val_loader:\n",
    "#             sequence, label = sequence.to(device), label.to(device)\n",
    "            \n",
    "#             out1 = model1(sequence)\n",
    "#             out2 = model2(sequence)\n",
    "\n",
    "#             loss1 = loss_function(out1, label)\n",
    "#             loss2 = loss_function(out2, label)\n",
    "\n",
    "#             val_loss1 += loss1.item() * sequence.size(0)\n",
    "#             val_loss2 += loss2.item() * sequence.size(0)\n",
    "\n",
    "            \n",
    "# #           use top 5 pred\n",
    "#             _, pred1_top5 = torch.topk(out1, 5, dim=1)\n",
    "#             _, pred2_top5 = torch.topk(out2, 5, dim=1)\n",
    "\n",
    "#             correct_top5_mod1 += (pred1_top5.to(device) == label.view(-1, 1)).sum().item()\n",
    "#             correct_top5_mod2 += (pred2_top5.to(device) == label.view(-1, 1)).sum().item()\n",
    "\n",
    "# #             top prediction\n",
    "#             _, pred1 = torch.max(out1, 1)\n",
    "#             _, pred2 = torch.max(out2, 1)\n",
    "\n",
    "#             correct_mod1 += (pred1 == label).sum().item()\n",
    "#             correct_mod2 += (pred2 == label).sum().item()\n",
    "            \n",
    "            \n",
    "#             total += label.size(0)\n",
    "\n",
    "\n",
    "\n",
    "#     val_loss1 /= len(val_loader.dataset)\n",
    "#     val_loss2 /= len(val_loader.dataset)\n",
    "    \n",
    "#     val_acc1 = correct_mod1 /total\n",
    "#     val_acc2 = correct_mod2 /total\n",
    "\n",
    "#     val_acc1_top5 = correct_top5_mod1/total\n",
    "#     val_acc2_top5 = correct_top5_mod2/total\n",
    "\n",
    "#     print(f'(model1) val loss: {val_loss1:.4f} Acc: {val_acc1:.4f} Top 5 Acc: {val_acc1_top5:.4f}')\n",
    "#     print(f'(model2) val loss: {val_loss2:.4f} Acc: {val_acc2:.4f} Top 5 Acc: {val_acc2_top5:.4f}')\n",
    "\n",
    "\n",
    "#     torch.save(model1.state_dict(), f'pointnet_transformer_model1_{epoch+1}.pth')\n",
    "#     torch.save(model2.state_dict(), f'pointnet_transformer_model2_{epoch+1}.pth')"
   ]
  },
  {
   "cell_type": "markdown",
   "id": "a390fdac",
   "metadata": {
    "papermill": {
     "duration": 0.024748,
     "end_time": "2024-06-27T08:25:54.737446",
     "exception": false,
     "start_time": "2024-06-27T08:25:54.712698",
     "status": "completed"
    },
    "tags": []
   },
   "source": [
    "### Load model and analyze"
   ]
  },
  {
   "cell_type": "code",
   "execution_count": 49,
   "id": "a24c4a35",
   "metadata": {
    "execution": {
     "iopub.execute_input": "2024-06-27T08:25:54.787408Z",
     "iopub.status.busy": "2024-06-27T08:25:54.786223Z",
     "iopub.status.idle": "2024-06-27T08:25:54.791672Z",
     "shell.execute_reply": "2024-06-27T08:25:54.790611Z"
    },
    "papermill": {
     "duration": 0.033058,
     "end_time": "2024-06-27T08:25:54.794152",
     "exception": false,
     "start_time": "2024-06-27T08:25:54.761094",
     "status": "completed"
    },
    "tags": []
   },
   "outputs": [],
   "source": [
    "MODEL1_PATH = \"/kaggle/input/islr_transformer_model1_30epochs/pytorch/model1_60ep/1/pointnet_transformer_model1_60.pth\"\n",
    "MODEL2_PATH = \"/kaggle/input/islr_transformer_model2/pytorch/model2_45ep/1/pointnet_transformer_model2_45.pth\""
   ]
  },
  {
   "cell_type": "code",
   "execution_count": 50,
   "id": "93a71879",
   "metadata": {
    "execution": {
     "iopub.execute_input": "2024-06-27T08:25:54.844537Z",
     "iopub.status.busy": "2024-06-27T08:25:54.843574Z",
     "iopub.status.idle": "2024-06-27T08:25:54.849756Z",
     "shell.execute_reply": "2024-06-27T08:25:54.848625Z"
    },
    "papermill": {
     "duration": 0.033516,
     "end_time": "2024-06-27T08:25:54.851964",
     "exception": false,
     "start_time": "2024-06-27T08:25:54.818448",
     "status": "completed"
    },
    "tags": []
   },
   "outputs": [
    {
     "name": "stdout",
     "output_type": "stream",
     "text": [
      "Using device: cpu\n"
     ]
    }
   ],
   "source": [
    "device = torch.device(\"cuda\" if torch.cuda.is_available() else \"cpu\")\n",
    "print(f\"Using device: {device}\")"
   ]
  },
  {
   "cell_type": "code",
   "execution_count": 51,
   "id": "0060eb37",
   "metadata": {
    "_cell_guid": "d48d79aa-4bbe-44d3-a62c-cfc061ec4c35",
    "_uuid": "77028451-ab57-44e5-b99f-37d8b641a82e",
    "collapsed": false,
    "execution": {
     "iopub.execute_input": "2024-06-27T08:25:54.902034Z",
     "iopub.status.busy": "2024-06-27T08:25:54.901578Z",
     "iopub.status.idle": "2024-06-27T08:25:54.975955Z",
     "shell.execute_reply": "2024-06-27T08:25:54.974658Z"
    },
    "jupyter": {
     "outputs_hidden": false
    },
    "papermill": {
     "duration": 0.102719,
     "end_time": "2024-06-27T08:25:54.978845",
     "exception": false,
     "start_time": "2024-06-27T08:25:54.876126",
     "status": "completed"
    },
    "tags": []
   },
   "outputs": [
    {
     "name": "stderr",
     "output_type": "stream",
     "text": [
      "/opt/conda/lib/python3.10/site-packages/torch/nn/modules/transformer.py:282: UserWarning: enable_nested_tensor is True, but self.use_nested_tensor is False because encoder_layer.self_attn.batch_first was not True(use batch_first for better inference performance)\n",
      "  warnings.warn(f\"enable_nested_tensor is True, but self.use_nested_tensor is False because {why_not_sparsity_fast_path}\")\n"
     ]
    }
   ],
   "source": [
    "input_dim = 2  # (x, y)\n",
    "num_heads = 4\n",
    "num_layers = 2\n",
    "hidden_dim = 64\n",
    "output_dim = 250\n",
    "n_landmarks = 92\n",
    "\n",
    "model_load = TransformerModel(input_dim=input_dim,\n",
    "                         num_heads=num_heads,\n",
    "                         num_layers=num_layers,\n",
    "                         hidden_dim=hidden_dim,\n",
    "                         output_dim=output_dim,\n",
    "                         n_landmarks=n_landmarks)\n",
    "\n",
    "if torch.cuda.is_available():\n",
    "    model_load.load_state_dict(torch.load(MODEL1_PATH))\n",
    "else:\n",
    "    model_load.load_state_dict(torch.load(MODEL1_PATH, map_location=torch.device('cpu')))"
   ]
  },
  {
   "cell_type": "code",
   "execution_count": 52,
   "id": "60604317",
   "metadata": {
    "_cell_guid": "44b3fc6b-1f88-4733-934a-c264432cad1d",
    "_uuid": "e33108e0-9908-4646-905b-bb3bd4be8cee",
    "collapsed": false,
    "execution": {
     "iopub.execute_input": "2024-06-27T08:25:55.035329Z",
     "iopub.status.busy": "2024-06-27T08:25:55.034892Z",
     "iopub.status.idle": "2024-06-27T08:25:55.043902Z",
     "shell.execute_reply": "2024-06-27T08:25:55.042786Z"
    },
    "jupyter": {
     "outputs_hidden": false
    },
    "papermill": {
     "duration": 0.039693,
     "end_time": "2024-06-27T08:25:55.046181",
     "exception": false,
     "start_time": "2024-06-27T08:25:55.006488",
     "status": "completed"
    },
    "tags": []
   },
   "outputs": [
    {
     "data": {
      "text/plain": [
       "TransformerModel(\n",
       "  (embedding): Linear(in_features=184, out_features=64, bias=True)\n",
       "  (layer_norm1): LayerNorm((64,), eps=1e-05, elementwise_affine=True)\n",
       "  (transformer_encoder): TransformerEncoder(\n",
       "    (layers): ModuleList(\n",
       "      (0-1): 2 x TransformerEncoderLayer(\n",
       "        (self_attn): MultiheadAttention(\n",
       "          (out_proj): NonDynamicallyQuantizableLinear(in_features=64, out_features=64, bias=True)\n",
       "        )\n",
       "        (linear1): Linear(in_features=64, out_features=2048, bias=True)\n",
       "        (dropout): Dropout(p=0.1, inplace=False)\n",
       "        (linear2): Linear(in_features=2048, out_features=64, bias=True)\n",
       "        (norm1): LayerNorm((64,), eps=1e-05, elementwise_affine=True)\n",
       "        (norm2): LayerNorm((64,), eps=1e-05, elementwise_affine=True)\n",
       "        (dropout1): Dropout(p=0.1, inplace=False)\n",
       "        (dropout2): Dropout(p=0.1, inplace=False)\n",
       "      )\n",
       "    )\n",
       "  )\n",
       "  (fc): Linear(in_features=64, out_features=250, bias=True)\n",
       ")"
      ]
     },
     "execution_count": 52,
     "metadata": {},
     "output_type": "execute_result"
    }
   ],
   "source": [
    "model_load.to(device)"
   ]
  },
  {
   "cell_type": "code",
   "execution_count": 53,
   "id": "7a0b45f9",
   "metadata": {
    "execution": {
     "iopub.execute_input": "2024-06-27T08:25:55.103704Z",
     "iopub.status.busy": "2024-06-27T08:25:55.103274Z",
     "iopub.status.idle": "2024-06-27T08:30:40.790964Z",
     "shell.execute_reply": "2024-06-27T08:30:40.789028Z"
    },
    "papermill": {
     "duration": 285.752222,
     "end_time": "2024-06-27T08:30:40.826428",
     "exception": false,
     "start_time": "2024-06-27T08:25:55.074206",
     "status": "completed"
    },
    "tags": []
   },
   "outputs": [
    {
     "name": "stdout",
     "output_type": "stream",
     "text": [
      "Accuracy of the network on the test set: 66 %\n"
     ]
    }
   ],
   "source": [
    "correct = 0\n",
    "total = 0\n",
    "model_load.eval()\n",
    "true_labels = []\n",
    "predicted_labels = []\n",
    "\n",
    "confusion_matrix = torch.zeros(250, 250)\n",
    "\n",
    "with torch.no_grad():\n",
    "      for i, (sequence, label) in enumerate(test_loader):\n",
    "            sequence, label = sequence.to(device), label.to(device)\n",
    "            \n",
    "            outputs = model_load(sequence)\n",
    "\n",
    "            _, pred = torch.max(outputs, 1)\n",
    "            correct += (pred == label).sum().item()\n",
    "            \n",
    "            true_labels = true_labels+label.tolist()\n",
    "            predicted_labels = predicted_labels+pred.tolist()\n",
    "\n",
    "            total += label.size(0)\n",
    "            \n",
    "            for t, p in zip(label.view(-1), pred.view(-1)):\n",
    "                confusion_matrix[t.long(), p.long()] += 1\n",
    "\n",
    "#             if i%200==0:\n",
    "#                 print(f'Ground Truth: {label}')\n",
    "#                 print(f'Prediction: {pred}')\n",
    "#                 print('-'*10)\n",
    "\n",
    "print(f'Accuracy of the network on the test set: {100 * correct // total} %')"
   ]
  },
  {
   "cell_type": "code",
   "execution_count": 54,
   "id": "d92f1362",
   "metadata": {
    "execution": {
     "iopub.execute_input": "2024-06-27T08:30:40.878623Z",
     "iopub.status.busy": "2024-06-27T08:30:40.878112Z",
     "iopub.status.idle": "2024-06-27T08:30:40.900866Z",
     "shell.execute_reply": "2024-06-27T08:30:40.899621Z"
    },
    "papermill": {
     "duration": 0.052447,
     "end_time": "2024-06-27T08:30:40.903618",
     "exception": false,
     "start_time": "2024-06-27T08:30:40.851171",
     "status": "completed"
    },
    "tags": []
   },
   "outputs": [],
   "source": [
    "if \"cm_test.pt\" in os.listdir(\"/kaggle/input/confusion-matrix/\"):\n",
    "    confusion_matrix = torch.load(\"/kaggle/input/confusion-matrix/cm_test.pt\")\n",
    "else:\n",
    "    torch.save(confusion_matrix, \"cm_test.pt\")"
   ]
  },
  {
   "cell_type": "code",
   "execution_count": 55,
   "id": "bbe70c72",
   "metadata": {
    "execution": {
     "iopub.execute_input": "2024-06-27T08:30:40.954338Z",
     "iopub.status.busy": "2024-06-27T08:30:40.953902Z",
     "iopub.status.idle": "2024-06-27T08:30:40.987707Z",
     "shell.execute_reply": "2024-06-27T08:30:40.986399Z"
    },
    "papermill": {
     "duration": 0.061965,
     "end_time": "2024-06-27T08:30:40.990134",
     "exception": false,
     "start_time": "2024-06-27T08:30:40.928169",
     "status": "completed"
    },
    "tags": []
   },
   "outputs": [
    {
     "name": "stdout",
     "output_type": "stream",
     "text": [
      "loading class_report.csv...\n",
      "class_report loaded\n"
     ]
    }
   ],
   "source": [
    "import pandas as pd\n",
    "\n",
    "if \"class_report.csv\" in os.listdir(\"/kaggle/input/class-report\"):\n",
    "    print('loading class_report.csv...')\n",
    "    class_report_df = pd.read_csv(\"/kaggle/input/class-report/class_report.csv\")\n",
    "    print('class_report loaded')\n",
    "    \n",
    "else: \n",
    "    print('create classification report')\n",
    "    report = classification_report(true_labels, predicted_labels, output_dict=True)\n",
    "    # Convert the report dictionary to a pandas DataFrame\n",
    "    report_df = pd.DataFrame(report).transpose()\n",
    "    class_report_df = report_df.drop(['accuracy','macro avg', 'weighted avg'])\n",
    "    class_report_df.to_csv(\"/kaggle/working/class_report.csv\", header=True, index=False)\n",
    "    print('saved to /kaggle/working/class_report.csv')"
   ]
  },
  {
   "cell_type": "code",
   "execution_count": 56,
   "id": "b19d686d",
   "metadata": {
    "execution": {
     "iopub.execute_input": "2024-06-27T08:30:41.042132Z",
     "iopub.status.busy": "2024-06-27T08:30:41.041705Z",
     "iopub.status.idle": "2024-06-27T08:30:41.048808Z",
     "shell.execute_reply": "2024-06-27T08:30:41.047541Z"
    },
    "papermill": {
     "duration": 0.035887,
     "end_time": "2024-06-27T08:30:41.051296",
     "exception": false,
     "start_time": "2024-06-27T08:30:41.015409",
     "status": "completed"
    },
    "tags": []
   },
   "outputs": [],
   "source": [
    "f1_score=class_report_df['f1-score']\n",
    "support = class_report_df['support']"
   ]
  },
  {
   "cell_type": "code",
   "execution_count": 57,
   "id": "6f1bd931",
   "metadata": {
    "execution": {
     "iopub.execute_input": "2024-06-27T08:30:41.102883Z",
     "iopub.status.busy": "2024-06-27T08:30:41.101905Z",
     "iopub.status.idle": "2024-06-27T08:30:41.107861Z",
     "shell.execute_reply": "2024-06-27T08:30:41.106658Z"
    },
    "papermill": {
     "duration": 0.033656,
     "end_time": "2024-06-27T08:30:41.110164",
     "exception": false,
     "start_time": "2024-06-27T08:30:41.076508",
     "status": "completed"
    },
    "tags": []
   },
   "outputs": [],
   "source": [
    "value_to_keep = 5\n",
    "sorted_classes=np.argsort(f1_score.values)\n",
    "worst_classes = sorted_classes[:value_to_keep]\n",
    "best_classes = sorted_classes[-value_to_keep:]"
   ]
  },
  {
   "cell_type": "code",
   "execution_count": 58,
   "id": "1451a544",
   "metadata": {
    "execution": {
     "iopub.execute_input": "2024-06-27T08:30:41.160532Z",
     "iopub.status.busy": "2024-06-27T08:30:41.159478Z",
     "iopub.status.idle": "2024-06-27T08:30:41.168638Z",
     "shell.execute_reply": "2024-06-27T08:30:41.167434Z"
    },
    "papermill": {
     "duration": 0.036927,
     "end_time": "2024-06-27T08:30:41.171102",
     "exception": false,
     "start_time": "2024-06-27T08:30:41.134175",
     "status": "completed"
    },
    "tags": []
   },
   "outputs": [
    {
     "data": {
      "text/plain": [
       "array([219,  63, 165,  86,  49])"
      ]
     },
     "execution_count": 58,
     "metadata": {},
     "output_type": "execute_result"
    }
   ],
   "source": [
    "best_classes"
   ]
  },
  {
   "cell_type": "code",
   "execution_count": 59,
   "id": "0f419bb7",
   "metadata": {
    "execution": {
     "iopub.execute_input": "2024-06-27T08:30:41.222529Z",
     "iopub.status.busy": "2024-06-27T08:30:41.221768Z",
     "iopub.status.idle": "2024-06-27T08:30:41.228617Z",
     "shell.execute_reply": "2024-06-27T08:30:41.227485Z"
    },
    "papermill": {
     "duration": 0.035722,
     "end_time": "2024-06-27T08:30:41.230875",
     "exception": false,
     "start_time": "2024-06-27T08:30:41.195153",
     "status": "completed"
    },
    "tags": []
   },
   "outputs": [
    {
     "data": {
      "text/plain": [
       "array([ 95, 216,  21,  80, 231])"
      ]
     },
     "execution_count": 59,
     "metadata": {},
     "output_type": "execute_result"
    }
   ],
   "source": [
    "worst_classes"
   ]
  },
  {
   "cell_type": "code",
   "execution_count": 60,
   "id": "5b23ecae",
   "metadata": {
    "execution": {
     "iopub.execute_input": "2024-06-27T08:30:41.281823Z",
     "iopub.status.busy": "2024-06-27T08:30:41.280783Z",
     "iopub.status.idle": "2024-06-27T08:30:41.286817Z",
     "shell.execute_reply": "2024-06-27T08:30:41.285673Z"
    },
    "papermill": {
     "duration": 0.033913,
     "end_time": "2024-06-27T08:30:41.289143",
     "exception": false,
     "start_time": "2024-06-27T08:30:41.255230",
     "status": "completed"
    },
    "tags": []
   },
   "outputs": [
    {
     "name": "stdout",
     "output_type": "stream",
     "text": [
      "give\n",
      "there\n",
      "beside\n",
      "finger\n",
      "vacuum\n"
     ]
    }
   ],
   "source": [
    "for class_idx in worst_classes:\n",
    "    print(get_word_from_key(class_idx))"
   ]
  },
  {
   "cell_type": "code",
   "execution_count": 61,
   "id": "4e79093e",
   "metadata": {
    "execution": {
     "iopub.execute_input": "2024-06-27T08:30:41.341664Z",
     "iopub.status.busy": "2024-06-27T08:30:41.341249Z",
     "iopub.status.idle": "2024-06-27T08:30:41.346936Z",
     "shell.execute_reply": "2024-06-27T08:30:41.345833Z"
    },
    "papermill": {
     "duration": 0.033916,
     "end_time": "2024-06-27T08:30:41.349331",
     "exception": false,
     "start_time": "2024-06-27T08:30:41.315415",
     "status": "completed"
    },
    "tags": []
   },
   "outputs": [
    {
     "name": "stdout",
     "output_type": "stream",
     "text": [
      "tiger\n",
      "drink\n",
      "owl\n",
      "flower\n",
      "clown\n"
     ]
    }
   ],
   "source": [
    "for class_idx in best_classes:\n",
    "    print(get_word_from_key(class_idx))"
   ]
  },
  {
   "cell_type": "code",
   "execution_count": 62,
   "id": "62514838",
   "metadata": {
    "execution": {
     "iopub.execute_input": "2024-06-27T08:30:41.400274Z",
     "iopub.status.busy": "2024-06-27T08:30:41.399887Z",
     "iopub.status.idle": "2024-06-27T08:30:41.406553Z",
     "shell.execute_reply": "2024-06-27T08:30:41.405384Z"
    },
    "papermill": {
     "duration": 0.034964,
     "end_time": "2024-06-27T08:30:41.408860",
     "exception": false,
     "start_time": "2024-06-27T08:30:41.373896",
     "status": "completed"
    },
    "tags": []
   },
   "outputs": [],
   "source": [
    "def mean_len_word_sqcs(class_index):\n",
    "    word = get_word_from_key(class_index)\n",
    "    worst_class_path = train[train.sign == word].path.values\n",
    "    sequence_length = []\n",
    "    for idx,sqc_path in enumerate(worst_class_path):\n",
    "        sequence = get_data(os.path.join(COMPETITION_PATH,sqc_path))\n",
    "        sequence_length.append(len(sequence))\n",
    "\n",
    "\n",
    "    return np.mean(sequence_length), np.std(sequence_length)"
   ]
  },
  {
   "cell_type": "code",
   "execution_count": 63,
   "id": "ded3253a",
   "metadata": {
    "execution": {
     "iopub.execute_input": "2024-06-27T08:30:41.459700Z",
     "iopub.status.busy": "2024-06-27T08:30:41.459276Z",
     "iopub.status.idle": "2024-06-27T08:35:10.076287Z",
     "shell.execute_reply": "2024-06-27T08:35:10.075117Z"
    },
    "papermill": {
     "duration": 268.66954,
     "end_time": "2024-06-27T08:35:10.102880",
     "exception": false,
     "start_time": "2024-06-27T08:30:41.433340",
     "status": "completed"
    },
    "tags": []
   },
   "outputs": [
    {
     "name": "stdout",
     "output_type": "stream",
     "text": [
      "tiger : (42.078680203045685, 45.94044259994064)\n",
      "drink : (38.9525, 43.78093470621659)\n",
      "owl : (41.38383838383838, 40.55927376441931)\n",
      "flower : (44.99242424242424, 46.11407071996001)\n",
      "clown : (38.20360824742268, 36.72252163493097)\n"
     ]
    }
   ],
   "source": [
    "for class_idx in best_classes:\n",
    "    print(f'{get_word_from_key(class_idx)} : {mean_len_word_sqcs(class_idx)}')"
   ]
  },
  {
   "cell_type": "code",
   "execution_count": 64,
   "id": "bb5c149f",
   "metadata": {
    "execution": {
     "iopub.execute_input": "2024-06-27T08:35:10.155275Z",
     "iopub.status.busy": "2024-06-27T08:35:10.154749Z",
     "iopub.status.idle": "2024-06-27T08:39:48.359619Z",
     "shell.execute_reply": "2024-06-27T08:39:48.357882Z"
    },
    "papermill": {
     "duration": 278.234719,
     "end_time": "2024-06-27T08:39:48.362552",
     "exception": false,
     "start_time": "2024-06-27T08:35:10.127833",
     "status": "completed"
    },
    "tags": []
   },
   "outputs": [
    {
     "name": "stdout",
     "output_type": "stream",
     "text": [
      "give : (29.679190751445088, 38.716898603780315)\n",
      "there : (31.1900826446281, 38.12412250889271)\n",
      "beside : (34.329032258064515, 49.04107688095889)\n",
      "finger : (45.593667546174146, 47.675890833420056)\n",
      "vacuum : (44.19869706840391, 53.31770915044602)\n"
     ]
    }
   ],
   "source": [
    "for class_idx in worst_classes:\n",
    "    print(f'{get_word_from_key(class_idx)} : {mean_len_word_sqcs(class_idx)}')"
   ]
  },
  {
   "cell_type": "markdown",
   "id": "d3cbdb21",
   "metadata": {
    "papermill": {
     "duration": 0.026432,
     "end_time": "2024-06-27T08:39:48.414650",
     "exception": false,
     "start_time": "2024-06-27T08:39:48.388218",
     "status": "completed"
    },
    "tags": []
   },
   "source": [
    "### Results analysis"
   ]
  },
  {
   "cell_type": "code",
   "execution_count": 65,
   "id": "4356760b",
   "metadata": {
    "execution": {
     "iopub.execute_input": "2024-06-27T08:39:48.468874Z",
     "iopub.status.busy": "2024-06-27T08:39:48.468439Z",
     "iopub.status.idle": "2024-06-27T08:39:48.474350Z",
     "shell.execute_reply": "2024-06-27T08:39:48.473302Z"
    },
    "papermill": {
     "duration": 0.036942,
     "end_time": "2024-06-27T08:39:48.477019",
     "exception": false,
     "start_time": "2024-06-27T08:39:48.440077",
     "status": "completed"
    },
    "tags": []
   },
   "outputs": [],
   "source": [
    "per_class_acc = confusion_matrix.diag()/confusion_matrix.sum(1)"
   ]
  },
  {
   "cell_type": "code",
   "execution_count": 66,
   "id": "0de11a15",
   "metadata": {
    "execution": {
     "iopub.execute_input": "2024-06-27T08:39:48.530432Z",
     "iopub.status.busy": "2024-06-27T08:39:48.530016Z",
     "iopub.status.idle": "2024-06-27T08:39:48.541850Z",
     "shell.execute_reply": "2024-06-27T08:39:48.540669Z"
    },
    "papermill": {
     "duration": 0.041099,
     "end_time": "2024-06-27T08:39:48.544116",
     "exception": false,
     "start_time": "2024-06-27T08:39:48.503017",
     "status": "completed"
    },
    "tags": []
   },
   "outputs": [
    {
     "data": {
      "text/plain": [
       "tensor([0.8133, 0.4923, 0.7179, 0.6962, 0.5476, 0.4189, 0.6667, 0.6533, 0.8113,\n",
       "        0.7869, 0.8222, 0.5600, 0.5714, 0.6974, 0.6533, 0.6818, 0.7000, 0.7538,\n",
       "        0.5393, 0.7568, 0.6615, 0.4590, 0.8143, 0.8721, 0.8986, 0.6951, 0.6944,\n",
       "        0.5833, 0.6301, 0.7391, 0.6582, 0.9125, 0.7308, 0.6892, 0.7857, 0.7922,\n",
       "        0.7763, 0.6506, 0.4051, 0.6456, 0.4681, 0.6462, 0.5439, 0.4493, 0.8056,\n",
       "        0.5833, 0.5278, 0.6800, 0.5541, 0.8987, 0.8286, 0.7975, 0.7073, 0.6203,\n",
       "        0.8308, 0.7714, 0.7465, 0.7353, 0.6125, 0.8649, 0.7582, 0.8000, 0.6180,\n",
       "        0.8750, 0.5658, 0.6389, 0.5972, 0.4444, 0.6234, 0.7397, 0.4483, 0.6471,\n",
       "        0.7273, 0.5385, 0.4691, 0.7579, 0.4321, 0.6429, 0.7556, 0.7407, 0.2593,\n",
       "        0.7356, 0.7529, 0.8043, 0.5484, 0.7105, 0.9359, 0.7500, 0.8772, 0.8684,\n",
       "        0.8056, 0.7183, 0.6420, 0.6970, 0.6804, 0.2031, 0.5897, 0.3896, 0.5476,\n",
       "        0.6029, 0.6901, 0.7013, 0.6786, 0.7848, 0.8000, 0.7273, 0.7714, 0.5652,\n",
       "        0.6709, 0.5000, 0.7875, 0.4557, 0.4384, 0.7625, 0.7143, 0.3968, 0.5507,\n",
       "        0.8133, 0.8721, 0.8904, 0.6812, 0.7143, 0.8500, 0.7910, 0.6027, 0.6667,\n",
       "        0.5205, 0.5205, 0.5926, 0.6000, 0.6625, 0.7627, 0.6625, 0.7286, 0.2875,\n",
       "        0.6092, 0.5132, 0.6338, 0.6800, 0.5493, 0.6476, 0.7692, 0.7342, 0.5556,\n",
       "        0.6389, 0.7317, 0.6282, 0.8000, 0.7083, 0.6667, 0.4023, 0.7750, 0.5692,\n",
       "        0.7349, 0.5694, 0.8442, 0.7826, 0.8571, 0.7397, 0.6533, 0.4324, 0.5000,\n",
       "        0.7848, 0.6216, 0.5692, 0.8947, 0.5696, 0.3205, 0.4588, 0.7262, 0.4462,\n",
       "        0.7460, 0.6750, 0.7692, 0.7763, 0.6620, 0.7463, 0.7089, 0.6714, 0.4306,\n",
       "        0.4918, 0.5974, 0.7614, 0.7237, 0.7500, 0.5441, 0.5600, 0.4203, 0.5977,\n",
       "        0.7848, 0.7333, 0.7528, 0.6667, 0.6711, 0.8526, 0.7273, 0.8451, 0.7368,\n",
       "        0.7027, 0.5783, 0.5595, 0.8158, 0.5618, 0.6941, 0.5584, 0.3500, 0.4375,\n",
       "        0.8289, 0.6866, 0.8514, 0.6986, 0.7302, 0.5316, 0.7895, 0.7812, 0.7671,\n",
       "        0.2877, 0.6406, 0.8519, 0.9367, 0.7568, 0.7917, 0.4878, 0.4302, 0.8143,\n",
       "        0.6133, 0.8025, 0.6585, 0.8961, 0.7746, 0.6447, 0.3768, 0.7692, 0.4074,\n",
       "        0.8072, 0.8219, 0.7733, 0.8143, 0.6949, 0.7848, 0.6711, 0.6076, 0.7941,\n",
       "        0.7765, 0.5065, 0.7500, 0.7237, 0.3605, 0.7667, 0.4857])"
      ]
     },
     "execution_count": 66,
     "metadata": {},
     "output_type": "execute_result"
    }
   ],
   "source": [
    "per_class_acc"
   ]
  },
  {
   "cell_type": "code",
   "execution_count": 67,
   "id": "e27e4ebb",
   "metadata": {
    "execution": {
     "iopub.execute_input": "2024-06-27T08:39:48.598223Z",
     "iopub.status.busy": "2024-06-27T08:39:48.597837Z",
     "iopub.status.idle": "2024-06-27T08:39:48.614343Z",
     "shell.execute_reply": "2024-06-27T08:39:48.613092Z"
    },
    "papermill": {
     "duration": 0.0469,
     "end_time": "2024-06-27T08:39:48.616692",
     "exception": false,
     "start_time": "2024-06-27T08:39:48.569792",
     "status": "completed"
    },
    "tags": []
   },
   "outputs": [
    {
     "data": {
      "text/plain": [
       "(tensor([0.2031, 0.2593, 0.2875, 0.2877, 0.3205]),\n",
       " tensor([ 95,  80, 134, 216, 167]))"
      ]
     },
     "execution_count": 67,
     "metadata": {},
     "output_type": "execute_result"
    }
   ],
   "source": [
    "worst_acc, worst_classes = torch.topk(1-per_class_acc, k=5)\n",
    "worst_acc = 1-worst_acc\n",
    "\n",
    "worst_acc, worst_classes"
   ]
  },
  {
   "cell_type": "code",
   "execution_count": 68,
   "id": "07929dce",
   "metadata": {
    "execution": {
     "iopub.execute_input": "2024-06-27T08:39:48.669463Z",
     "iopub.status.busy": "2024-06-27T08:39:48.669026Z",
     "iopub.status.idle": "2024-06-27T08:39:48.677560Z",
     "shell.execute_reply": "2024-06-27T08:39:48.676495Z"
    },
    "papermill": {
     "duration": 0.037683,
     "end_time": "2024-06-27T08:39:48.679822",
     "exception": false,
     "start_time": "2024-06-27T08:39:48.642139",
     "status": "completed"
    },
    "tags": []
   },
   "outputs": [
    {
     "data": {
      "text/plain": [
       "(tensor([0.9367, 0.9359, 0.9125, 0.8987, 0.8986]),\n",
       " tensor([219,  86,  31,  49,  24]))"
      ]
     },
     "execution_count": 68,
     "metadata": {},
     "output_type": "execute_result"
    }
   ],
   "source": [
    "best_acc, best_classes = torch.topk(per_class_acc, k=5)\n",
    "\n",
    "best_acc,best_classes"
   ]
  },
  {
   "cell_type": "code",
   "execution_count": null,
   "id": "9ae94ec5",
   "metadata": {
    "execution": {
     "iopub.execute_input": "2024-06-27T07:46:04.583142Z",
     "iopub.status.busy": "2024-06-27T07:46:04.582723Z",
     "iopub.status.idle": "2024-06-27T07:46:04.592945Z",
     "shell.execute_reply": "2024-06-27T07:46:04.591251Z",
     "shell.execute_reply.started": "2024-06-27T07:46:04.583107Z"
    },
    "papermill": {
     "duration": 0.025143,
     "end_time": "2024-06-27T08:39:48.730915",
     "exception": false,
     "start_time": "2024-06-27T08:39:48.705772",
     "status": "completed"
    },
    "tags": []
   },
   "outputs": [],
   "source": []
  },
  {
   "cell_type": "code",
   "execution_count": 69,
   "id": "4fa3f3c2",
   "metadata": {
    "execution": {
     "iopub.execute_input": "2024-06-27T08:39:48.785520Z",
     "iopub.status.busy": "2024-06-27T08:39:48.784278Z",
     "iopub.status.idle": "2024-06-27T08:39:48.830269Z",
     "shell.execute_reply": "2024-06-27T08:39:48.828510Z"
    },
    "papermill": {
     "duration": 0.075948,
     "end_time": "2024-06-27T08:39:48.832828",
     "exception": false,
     "start_time": "2024-06-27T08:39:48.756880",
     "status": "completed"
    },
    "tags": []
   },
   "outputs": [
    {
     "name": "stdout",
     "output_type": "stream",
     "text": [
      "true word: give (class accuracy: 0.203)\n",
      "22.0% <gift> predicted as <give>\n",
      "20.0% <give> predicted as <give>\n",
      "------------------------\n",
      "true word: finger (class accuracy: 0.259)\n",
      "37.0% <wait> predicted as <finger>\n",
      "26.0% <finger> predicted as <finger>\n",
      "------------------------\n",
      "true word: lips (class accuracy: 0.287)\n",
      "42.0% <mouth> predicted as <lips>\n",
      "29.0% <lips> predicted as <lips>\n",
      "------------------------\n",
      "true word: there (class accuracy: 0.288)\n",
      "29.0% <there> predicted as <there>\n",
      "7.0% <morning> predicted as <there>\n",
      "------------------------\n",
      "true word: pen (class accuracy: 0.321)\n",
      "32.0% <pen> predicted as <pen>\n",
      "28.0% <pencil> predicted as <pen>\n",
      "------------------------\n"
     ]
    }
   ],
   "source": [
    "for class_idx in (worst_classes):\n",
    "\n",
    "    number_of_pred, pred_classes = torch.topk(confusion_matrix[int(class_idx)], 2)\n",
    "    true_word = get_word_from_key(class_idx)\n",
    "    acc = np.round(float(per_class_acc[class_idx]),3)\n",
    "    total_preds = confusion_matrix[class_idx,:].sum().item()\n",
    "    print(f'true word: {true_word} (class accuracy: {acc})')\n",
    "    \n",
    "    for idx, pred in enumerate(pred_classes):\n",
    "        pred_word = get_word_from_key(pred)\n",
    "        word_acc = number_of_pred[idx]/total_preds\n",
    "        w_acc = np.round(word_acc, 2)\n",
    "        print(f'{100*w_acc}% <{pred_word}> predicted as <{true_word}>')\n",
    "        \n",
    "    print('------------------------')"
   ]
  },
  {
   "cell_type": "code",
   "execution_count": 70,
   "id": "43833769",
   "metadata": {
    "execution": {
     "iopub.execute_input": "2024-06-27T08:39:48.887137Z",
     "iopub.status.busy": "2024-06-27T08:39:48.886315Z",
     "iopub.status.idle": "2024-06-27T08:39:48.912720Z",
     "shell.execute_reply": "2024-06-27T08:39:48.911603Z"
    },
    "papermill": {
     "duration": 0.056839,
     "end_time": "2024-06-27T08:39:48.915311",
     "exception": false,
     "start_time": "2024-06-27T08:39:48.858472",
     "status": "completed"
    },
    "tags": []
   },
   "outputs": [],
   "source": [
    "worst_sign = get_word_from_key(worst_classes[0])\n",
    "worst_class_path = train[train.sign == worst_sign].path.values\n",
    "\n",
    "best_sign = get_word_from_key(best_classes[0])\n",
    "best_class_path = train[train.sign == best_sign].path.values"
   ]
  },
  {
   "cell_type": "code",
   "execution_count": 71,
   "id": "cebc3e04",
   "metadata": {
    "execution": {
     "iopub.execute_input": "2024-06-27T08:39:48.968205Z",
     "iopub.status.busy": "2024-06-27T08:39:48.967836Z",
     "iopub.status.idle": "2024-06-27T08:39:48.973687Z",
     "shell.execute_reply": "2024-06-27T08:39:48.972664Z"
    },
    "papermill": {
     "duration": 0.034855,
     "end_time": "2024-06-27T08:39:48.975908",
     "exception": false,
     "start_time": "2024-06-27T08:39:48.941053",
     "status": "completed"
    },
    "tags": []
   },
   "outputs": [],
   "source": [
    "class_idx = worst_classes[0]\n",
    "number_of_pred, pred_classes = torch.topk(confusion_matrix[int(class_idx)], 2)"
   ]
  },
  {
   "cell_type": "code",
   "execution_count": 72,
   "id": "23d579f7",
   "metadata": {
    "execution": {
     "iopub.execute_input": "2024-06-27T08:39:49.030413Z",
     "iopub.status.busy": "2024-06-27T08:39:49.029984Z",
     "iopub.status.idle": "2024-06-27T08:39:49.086210Z",
     "shell.execute_reply": "2024-06-27T08:39:49.085060Z"
    },
    "papermill": {
     "duration": 0.086506,
     "end_time": "2024-06-27T08:39:49.088567",
     "exception": false,
     "start_time": "2024-06-27T08:39:49.002061",
     "status": "completed"
    },
    "tags": []
   },
   "outputs": [
    {
     "name": "stdout",
     "output_type": "stream",
     "text": [
      "125\n"
     ]
    }
   ],
   "source": [
    "file_path = worst_class_path[0]\n",
    "\n",
    "sequence = get_data(os.path.join(COMPETITION_PATH,file_path))\n",
    "print(len(sequence))\n",
    "variation = np.zeros((92,len(sequence),2))\n",
    "for id_f, frame in enumerate(sequence):\n",
    "    for id_p, point in enumerate(frame):\n",
    "        variation[id_p, id_f, :] = point\n",
    "        "
   ]
  },
  {
   "cell_type": "code",
   "execution_count": 73,
   "id": "e862f00d",
   "metadata": {
    "execution": {
     "iopub.execute_input": "2024-06-27T08:39:49.142044Z",
     "iopub.status.busy": "2024-06-27T08:39:49.141562Z",
     "iopub.status.idle": "2024-06-27T08:39:57.035008Z",
     "shell.execute_reply": "2024-06-27T08:39:57.033705Z"
    },
    "papermill": {
     "duration": 7.92314,
     "end_time": "2024-06-27T08:39:57.037493",
     "exception": false,
     "start_time": "2024-06-27T08:39:49.114353",
     "status": "completed"
    },
    "tags": []
   },
   "outputs": [
    {
     "name": "stdout",
     "output_type": "stream",
     "text": [
      "number of frames: 21\n"
     ]
    },
    {
     "data": {
      "image/png": "[encoded data removed]",
      "text/plain": [
       "<Figure size 800x800 with 1 Axes>"
      ]
     },
     "metadata": {},
     "output_type": "display_data"
    },
    {
     "name": "stdout",
     "output_type": "stream",
     "text": [
      "\n",
      "\n",
      "\n",
      "\n",
      "\n",
      "\n",
      "\n",
      "\n",
      "\n",
      "\n",
      "\n",
      "\n",
      "\n",
      "\n",
      "\n",
      "\n",
      "\n",
      "\n",
      "\n",
      "\n",
      "\n"
     ]
    }
   ],
   "source": [
    "from IPython.display import display, clear_output, update_display\n",
    "import time\n",
    "\n",
    "file_path = worst_class_path[7]\n",
    "pq_path = os.path.join(COMPETITION_PATH,file_path)\n",
    "vv = get_data(pq_path)\n",
    "print(f'number of frames: {len(vv)}')\n",
    "\n",
    "fig = plt.figure(figsize=(8,8))\n",
    "\n",
    "hfig = display(fig, display_id=True)\n",
    "\n",
    "T = 3\n",
    "\n",
    "def update():\n",
    "    for i in range(len(vv)):\n",
    "\n",
    "        plt.clf()\n",
    "        plt.xlim(0,100)\n",
    "        plt.ylim(-100,0)\n",
    "        plt.scatter(100*vv[i,:,0],-100*vv[i,:,1], s=5, c='r')\n",
    "        plt.title(f'{best_sign}, frame {i+1}/{len(vv)}')\n",
    "        hfig.update(fig)\n",
    "        print()\n",
    "        time.sleep(T/len(vv))\n",
    "    \n",
    "\n",
    "update()\n",
    "plt.close(fig)"
   ]
  },
  {
   "cell_type": "code",
   "execution_count": 74,
   "id": "c3d80fd3",
   "metadata": {
    "execution": {
     "iopub.execute_input": "2024-06-27T08:39:57.096398Z",
     "iopub.status.busy": "2024-06-27T08:39:57.095960Z",
     "iopub.status.idle": "2024-06-27T08:40:12.568143Z",
     "shell.execute_reply": "2024-06-27T08:40:12.566917Z"
    },
    "papermill": {
     "duration": 15.504599,
     "end_time": "2024-06-27T08:40:12.570736",
     "exception": false,
     "start_time": "2024-06-27T08:39:57.066137",
     "status": "completed"
    },
    "tags": []
   },
   "outputs": [
    {
     "name": "stdout",
     "output_type": "stream",
     "text": [
      "number of frames: 31 and 28\n"
     ]
    },
    {
     "data": {
      "image/png": "[encoded data removed]",
      "text/plain": [
       "<Figure size 1000x800 with 2 Axes>"
      ]
     },
     "metadata": {},
     "output_type": "display_data"
    }
   ],
   "source": [
    "class_idx = worst_classes[0]\n",
    "number_of_pred, pred_classes = torch.topk(confusion_matrix[int(class_idx)], 2)\n",
    "\n",
    "sign1 = get_word_from_key(pred_classes[0])\n",
    "sign2 = get_word_from_key(pred_classes[1])\n",
    "\n",
    "path1 = random.choice(train[train.sign == sign1].path.values)\n",
    "seq1 = get_data(os.path.join(COMPETITION_PATH,path1))\n",
    "seq_len=-100\n",
    "\n",
    "path_it = iter(train[train.sign == sign2].path.values)\n",
    "while np.abs(seq_len-len(seq1))>5:\n",
    "    path2 = next(path_it)\n",
    "    seq2 = get_data(os.path.join(COMPETITION_PATH,path2))\n",
    "    seq_len=len(seq2)\n",
    "\n",
    "\n",
    "seq2 = get_data(os.path.join(COMPETITION_PATH,path2))\n",
    "\n",
    "print(f'number of frames: {len(seq1)} and {len(seq2)}')\n",
    "\n",
    "fig = plt.figure(figsize=(10,8))\n",
    "\n",
    "hfig = display(fig, display_id=True)\n",
    "\n",
    "T = 3\n",
    "N = min(len(seq1),len(seq2))\n",
    "\n",
    "def update():\n",
    "    for i in range(N):\n",
    "        plt.clf()\n",
    "        \n",
    "        plt.subplot(1,2,1)\n",
    "        plt.xlim(0,100)\n",
    "        plt.ylim(-100,0)\n",
    "        plt.scatter(100*seq1[i,:,0],-100*seq1[i,:,1], s=5, c='r')\n",
    "        plt.title(sign1)\n",
    "        \n",
    "        plt.subplot(1,2,2)\n",
    "        plt.xlim(0,100)\n",
    "        plt.ylim(-100,0)\n",
    "        plt.scatter(100*seq2[i,:,0],-100*seq2[i,:,1], s=5, c='r')\n",
    "        plt.title(sign2)\n",
    "        \n",
    "        hfig.update(fig)\n",
    "        time.sleep(T/N)\n",
    "    \n",
    "\n",
    "update()\n",
    "plt.close(fig)"
   ]
  },
  {
   "cell_type": "code",
   "execution_count": 75,
   "id": "291ab28b",
   "metadata": {
    "execution": {
     "iopub.execute_input": "2024-06-27T08:40:12.629667Z",
     "iopub.status.busy": "2024-06-27T08:40:12.628750Z",
     "iopub.status.idle": "2024-06-27T08:40:12.664926Z",
     "shell.execute_reply": "2024-06-27T08:40:12.663347Z"
    },
    "papermill": {
     "duration": 0.068566,
     "end_time": "2024-06-27T08:40:12.667562",
     "exception": false,
     "start_time": "2024-06-27T08:40:12.598996",
     "status": "completed"
    },
    "tags": []
   },
   "outputs": [
    {
     "name": "stdout",
     "output_type": "stream",
     "text": [
      "16\n",
      "55\n"
     ]
    }
   ],
   "source": [
    "\n",
    "#     \"\"\"\n",
    "#     Computes the Dynamic Time Warping distance between two sequences.\n",
    "    \n",
    "#     Parameters:\n",
    "#     sequence1 (numpy.ndarray): First sequence with shape [n_frames1, n_landmarks, 2].\n",
    "#     sequence2 (numpy.ndarray): Second sequence with shape [n_frames2, n_landmarks, 2].\n",
    "    \n",
    "#     Returns:\n",
    "#     float: DTW distance between the two sequences.\n",
    "#     \"\"\"\n",
    "\n",
    "\n",
    "file_path1 = best_class_path[5]\n",
    "pq_path1 = os.path.join(COMPETITION_PATH,file_path1)\n",
    "sequence1 = get_data(pq_path1)\n",
    "print(len(sequence1))\n",
    "\n",
    "file_path2 = worst_class_path[2]\n",
    "pq_path2 = os.path.join(COMPETITION_PATH,file_path2)\n",
    "sequence2 = get_data(pq_path2)\n",
    "print(len(sequence2))\n",
    "\n",
    "n_frames1 = len(sequence1)\n",
    "n_frames2 = len(sequence2)\n",
    "\n",
    "n_landmarks1 = len(sequence1[0])\n",
    "n_landmarks2 = len(sequence2[0])\n",
    "\n",
    "if n_landmarks1 != n_landmarks2:\n",
    "    raise ValueError(\"The two sequences must have the same number of landmarks.\")\n",
    "\n",
    "# Initialize the cost matrix with infinity\n",
    "cost = np.full((n_frames1 + 1, n_frames2 + 1), np.inf)\n",
    "cost[0, 0] = 0\n",
    "\n",
    "# Fill the cost matrix\n",
    "for i in range(1, n_frames1 + 1):\n",
    "    for j in range(1, n_frames2 + 1):\n",
    "        dist = np.linalg.norm(sequence1[i-1] - sequence2[j-1])\n",
    "        cost[i, j] = dist + min(cost[i-1, j], cost[i, j-1], cost[i-1, j-1])\n",
    "\n",
    "# The DTW distance is the cost in the bottom-right corner of the matrix\n",
    "dtw_distance = cost[n_frames1, n_frames2]/(n_frames1+n_frames2)"
   ]
  },
  {
   "cell_type": "code",
   "execution_count": 76,
   "id": "58afe2ae",
   "metadata": {
    "execution": {
     "iopub.execute_input": "2024-06-27T08:40:12.725567Z",
     "iopub.status.busy": "2024-06-27T08:40:12.724761Z",
     "iopub.status.idle": "2024-06-27T08:40:12.731773Z",
     "shell.execute_reply": "2024-06-27T08:40:12.730678Z"
    },
    "papermill": {
     "duration": 0.038516,
     "end_time": "2024-06-27T08:40:12.734069",
     "exception": false,
     "start_time": "2024-06-27T08:40:12.695553",
     "status": "completed"
    },
    "tags": []
   },
   "outputs": [
    {
     "data": {
      "text/plain": [
       "0.651488277146604"
      ]
     },
     "execution_count": 76,
     "metadata": {},
     "output_type": "execute_result"
    }
   ],
   "source": [
    "dtw_distance"
   ]
  }
 ],
 "metadata": {
  "kaggle": {
   "accelerator": "none",
   "dataSources": [
    {
     "databundleVersionId": 5087314,
     "sourceId": 46105,
     "sourceType": "competition"
    },
    {
     "datasetId": 5115292,
     "isSourceIdPinned": false,
     "sourceId": 8558594,
     "sourceType": "datasetVersion"
    },
    {
     "datasetId": 5234941,
     "sourceId": 8723434,
     "sourceType": "datasetVersion"
    },
    {
     "datasetId": 5247040,
     "sourceId": 8739694,
     "sourceType": "datasetVersion"
    },
    {
     "isSourceIdPinned": true,
     "modelInstanceId": 55035,
     "sourceId": 65991,
     "sourceType": "modelInstanceVersion"
    },
    {
     "isSourceIdPinned": true,
     "modelInstanceId": 55036,
     "sourceId": 65992,
     "sourceType": "modelInstanceVersion"
    },
    {
     "isSourceIdPinned": true,
     "modelInstanceId": 55322,
     "sourceId": 66329,
     "sourceType": "modelInstanceVersion"
    },
    {
     "isSourceIdPinned": true,
     "modelInstanceId": 55323,
     "sourceId": 66330,
     "sourceType": "modelInstanceVersion"
    },
    {
     "isSourceIdPinned": true,
     "modelInstanceId": 55675,
     "sourceId": 66777,
     "sourceType": "modelInstanceVersion"
    }
   ],
   "isGpuEnabled": false,
   "isInternetEnabled": true,
   "language": "python",
   "sourceType": "notebook"
  },
  "kernelspec": {
   "display_name": "Python 3",
   "language": "python",
   "name": "python3"
  },
  "language_info": {
   "codemirror_mode": {
    "name": "ipython",
    "version": 3
   },
   "file_extension": ".py",
   "mimetype": "text/x-python",
   "name": "python",
   "nbconvert_exporter": "python",
   "pygments_lexer": "ipython3",
   "version": "3.10.13"
  },
  "papermill": {
   "default_parameters": {},
   "duration": 935.434235,
   "end_time": "2024-06-27T08:40:15.690494",
   "environment_variables": {},
   "exception": null,
   "input_path": "__notebook__.ipynb",
   "output_path": "__notebook__.ipynb",
   "parameters": {},
   "start_time": "2024-06-27T08:24:40.256259",
   "version": "2.5.0"
  }
 },
 "nbformat": 4,
 "nbformat_minor": 5
}
